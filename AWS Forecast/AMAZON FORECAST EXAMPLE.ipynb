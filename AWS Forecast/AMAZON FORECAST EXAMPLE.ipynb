{
 "cells": [
  {
   "cell_type": "code",
   "execution_count": 1,
   "metadata": {
    "collapsed": false
   },
   "outputs": [
    {
     "name": "stderr",
     "output_type": "stream",
     "text": [
      "C:\\Users\\User\\Anaconda3\\lib\\site-packages\\pandas\\compat\\_optional.py:106: UserWarning: Pandas requires version '1.2.1' or newer of 'bottleneck' (version '1.2.0' currently installed).\n",
      "  warnings.warn(msg, UserWarning)\n"
     ]
    }
   ],
   "source": [
    "import pandas as pd \n",
    "import yfinance as yf\n",
    "import boto3\n",
    "from datetime import datetime\n",
    "%matplotlib inline"
   ]
  },
  {
   "attachments": {},
   "cell_type": "markdown",
   "metadata": {},
   "source": [
    "# Get Data"
   ]
  },
  {
   "cell_type": "code",
   "execution_count": 2,
   "metadata": {
    "collapsed": false
   },
   "outputs": [
    {
     "name": "stdout",
     "output_type": "stream",
     "text": [
      "[*********************100%***********************]  1 of 1 completed\n"
     ]
    },
    {
     "data": {
      "text/html": [
       "<div>\n",
       "<style scoped>\n",
       "    .dataframe tbody tr th:only-of-type {\n",
       "        vertical-align: middle;\n",
       "    }\n",
       "\n",
       "    .dataframe tbody tr th {\n",
       "        vertical-align: top;\n",
       "    }\n",
       "\n",
       "    .dataframe thead th {\n",
       "        text-align: right;\n",
       "    }\n",
       "</style>\n",
       "<table border=\"1\" class=\"dataframe\">\n",
       "  <thead>\n",
       "    <tr style=\"text-align: right;\">\n",
       "      <th></th>\n",
       "      <th>Open</th>\n",
       "      <th>High</th>\n",
       "      <th>Low</th>\n",
       "      <th>Close</th>\n",
       "      <th>Adj Close</th>\n",
       "      <th>Volume</th>\n",
       "    </tr>\n",
       "    <tr>\n",
       "      <th>Date</th>\n",
       "      <th></th>\n",
       "      <th></th>\n",
       "      <th></th>\n",
       "      <th></th>\n",
       "      <th></th>\n",
       "      <th></th>\n",
       "    </tr>\n",
       "  </thead>\n",
       "  <tbody>\n",
       "    <tr>\n",
       "      <th>2018-01-02</th>\n",
       "      <td>267.839996</td>\n",
       "      <td>268.809998</td>\n",
       "      <td>267.399994</td>\n",
       "      <td>268.769989</td>\n",
       "      <td>249.993347</td>\n",
       "      <td>86655700</td>\n",
       "    </tr>\n",
       "    <tr>\n",
       "      <th>2018-01-03</th>\n",
       "      <td>268.959991</td>\n",
       "      <td>270.640015</td>\n",
       "      <td>268.959991</td>\n",
       "      <td>270.470001</td>\n",
       "      <td>251.574600</td>\n",
       "      <td>90070400</td>\n",
       "    </tr>\n",
       "    <tr>\n",
       "      <th>2018-01-04</th>\n",
       "      <td>271.200012</td>\n",
       "      <td>272.160004</td>\n",
       "      <td>270.540009</td>\n",
       "      <td>271.609985</td>\n",
       "      <td>252.635040</td>\n",
       "      <td>80636400</td>\n",
       "    </tr>\n",
       "    <tr>\n",
       "      <th>2018-01-05</th>\n",
       "      <td>272.510010</td>\n",
       "      <td>273.559998</td>\n",
       "      <td>271.950012</td>\n",
       "      <td>273.420013</td>\n",
       "      <td>254.318573</td>\n",
       "      <td>83524000</td>\n",
       "    </tr>\n",
       "    <tr>\n",
       "      <th>2018-01-08</th>\n",
       "      <td>273.309998</td>\n",
       "      <td>274.100006</td>\n",
       "      <td>272.980011</td>\n",
       "      <td>273.920013</td>\n",
       "      <td>254.783691</td>\n",
       "      <td>57319200</td>\n",
       "    </tr>\n",
       "  </tbody>\n",
       "</table>\n",
       "</div>"
      ],
      "text/plain": [
       "                  Open        High         Low       Close   Adj Close  \\\n",
       "Date                                                                     \n",
       "2018-01-02  267.839996  268.809998  267.399994  268.769989  249.993347   \n",
       "2018-01-03  268.959991  270.640015  268.959991  270.470001  251.574600   \n",
       "2018-01-04  271.200012  272.160004  270.540009  271.609985  252.635040   \n",
       "2018-01-05  272.510010  273.559998  271.950012  273.420013  254.318573   \n",
       "2018-01-08  273.309998  274.100006  272.980011  273.920013  254.783691   \n",
       "\n",
       "              Volume  \n",
       "Date                  \n",
       "2018-01-02  86655700  \n",
       "2018-01-03  90070400  \n",
       "2018-01-04  80636400  \n",
       "2018-01-05  83524000  \n",
       "2018-01-08  57319200  "
      ]
     },
     "execution_count": 2,
     "metadata": {},
     "output_type": "execute_result"
    }
   ],
   "source": [
    "data = yf.download('SPY',start = '2018-01-01',end = '2021-04-17')\n",
    "data.head()"
   ]
  },
  {
   "cell_type": "code",
   "execution_count": 3,
   "metadata": {
    "collapsed": false,
    "scrolled": true
   },
   "outputs": [
    {
     "data": {
      "text/html": [
       "<div>\n",
       "<style scoped>\n",
       "    .dataframe tbody tr th:only-of-type {\n",
       "        vertical-align: middle;\n",
       "    }\n",
       "\n",
       "    .dataframe tbody tr th {\n",
       "        vertical-align: top;\n",
       "    }\n",
       "\n",
       "    .dataframe thead th {\n",
       "        text-align: right;\n",
       "    }\n",
       "</style>\n",
       "<table border=\"1\" class=\"dataframe\">\n",
       "  <thead>\n",
       "    <tr style=\"text-align: right;\">\n",
       "      <th></th>\n",
       "      <th>Open</th>\n",
       "      <th>High</th>\n",
       "      <th>Low</th>\n",
       "      <th>Close</th>\n",
       "      <th>Adj Close</th>\n",
       "      <th>Volume</th>\n",
       "    </tr>\n",
       "    <tr>\n",
       "      <th>Date</th>\n",
       "      <th></th>\n",
       "      <th></th>\n",
       "      <th></th>\n",
       "      <th></th>\n",
       "      <th></th>\n",
       "      <th></th>\n",
       "    </tr>\n",
       "  </thead>\n",
       "  <tbody>\n",
       "    <tr>\n",
       "      <th>2018-01-02</th>\n",
       "      <td>267.839996</td>\n",
       "      <td>268.809998</td>\n",
       "      <td>267.399994</td>\n",
       "      <td>268.769989</td>\n",
       "      <td>249.993347</td>\n",
       "      <td>86655700</td>\n",
       "    </tr>\n",
       "    <tr>\n",
       "      <th>2018-01-03</th>\n",
       "      <td>268.959991</td>\n",
       "      <td>270.640015</td>\n",
       "      <td>268.959991</td>\n",
       "      <td>270.470001</td>\n",
       "      <td>251.574600</td>\n",
       "      <td>90070400</td>\n",
       "    </tr>\n",
       "    <tr>\n",
       "      <th>2018-01-04</th>\n",
       "      <td>271.200012</td>\n",
       "      <td>272.160004</td>\n",
       "      <td>270.540009</td>\n",
       "      <td>271.609985</td>\n",
       "      <td>252.635040</td>\n",
       "      <td>80636400</td>\n",
       "    </tr>\n",
       "    <tr>\n",
       "      <th>2018-01-05</th>\n",
       "      <td>272.510010</td>\n",
       "      <td>273.559998</td>\n",
       "      <td>271.950012</td>\n",
       "      <td>273.420013</td>\n",
       "      <td>254.318573</td>\n",
       "      <td>83524000</td>\n",
       "    </tr>\n",
       "    <tr>\n",
       "      <th>2018-01-08</th>\n",
       "      <td>273.309998</td>\n",
       "      <td>274.100006</td>\n",
       "      <td>272.980011</td>\n",
       "      <td>273.920013</td>\n",
       "      <td>254.783691</td>\n",
       "      <td>57319200</td>\n",
       "    </tr>\n",
       "    <tr>\n",
       "      <th>...</th>\n",
       "      <td>...</td>\n",
       "      <td>...</td>\n",
       "      <td>...</td>\n",
       "      <td>...</td>\n",
       "      <td>...</td>\n",
       "      <td>...</td>\n",
       "    </tr>\n",
       "    <tr>\n",
       "      <th>2021-04-12</th>\n",
       "      <td>410.850006</td>\n",
       "      <td>411.929993</td>\n",
       "      <td>410.200012</td>\n",
       "      <td>411.640015</td>\n",
       "      <td>406.293396</td>\n",
       "      <td>56704900</td>\n",
       "    </tr>\n",
       "    <tr>\n",
       "      <th>2021-04-13</th>\n",
       "      <td>411.529999</td>\n",
       "      <td>413.529999</td>\n",
       "      <td>411.119995</td>\n",
       "      <td>412.859985</td>\n",
       "      <td>407.497528</td>\n",
       "      <td>56551000</td>\n",
       "    </tr>\n",
       "    <tr>\n",
       "      <th>2021-04-14</th>\n",
       "      <td>412.829987</td>\n",
       "      <td>413.959991</td>\n",
       "      <td>410.869995</td>\n",
       "      <td>411.450012</td>\n",
       "      <td>406.105835</td>\n",
       "      <td>61659900</td>\n",
       "    </tr>\n",
       "    <tr>\n",
       "      <th>2021-04-15</th>\n",
       "      <td>413.739990</td>\n",
       "      <td>416.160004</td>\n",
       "      <td>413.690002</td>\n",
       "      <td>415.869995</td>\n",
       "      <td>410.468445</td>\n",
       "      <td>60229800</td>\n",
       "    </tr>\n",
       "    <tr>\n",
       "      <th>2021-04-16</th>\n",
       "      <td>417.250000</td>\n",
       "      <td>417.910004</td>\n",
       "      <td>415.730011</td>\n",
       "      <td>417.260010</td>\n",
       "      <td>411.840363</td>\n",
       "      <td>82037300</td>\n",
       "    </tr>\n",
       "  </tbody>\n",
       "</table>\n",
       "<p>828 rows × 6 columns</p>\n",
       "</div>"
      ],
      "text/plain": [
       "                  Open        High         Low       Close   Adj Close  \\\n",
       "Date                                                                     \n",
       "2018-01-02  267.839996  268.809998  267.399994  268.769989  249.993347   \n",
       "2018-01-03  268.959991  270.640015  268.959991  270.470001  251.574600   \n",
       "2018-01-04  271.200012  272.160004  270.540009  271.609985  252.635040   \n",
       "2018-01-05  272.510010  273.559998  271.950012  273.420013  254.318573   \n",
       "2018-01-08  273.309998  274.100006  272.980011  273.920013  254.783691   \n",
       "...                ...         ...         ...         ...         ...   \n",
       "2021-04-12  410.850006  411.929993  410.200012  411.640015  406.293396   \n",
       "2021-04-13  411.529999  413.529999  411.119995  412.859985  407.497528   \n",
       "2021-04-14  412.829987  413.959991  410.869995  411.450012  406.105835   \n",
       "2021-04-15  413.739990  416.160004  413.690002  415.869995  410.468445   \n",
       "2021-04-16  417.250000  417.910004  415.730011  417.260010  411.840363   \n",
       "\n",
       "              Volume  \n",
       "Date                  \n",
       "2018-01-02  86655700  \n",
       "2018-01-03  90070400  \n",
       "2018-01-04  80636400  \n",
       "2018-01-05  83524000  \n",
       "2018-01-08  57319200  \n",
       "...              ...  \n",
       "2021-04-12  56704900  \n",
       "2021-04-13  56551000  \n",
       "2021-04-14  61659900  \n",
       "2021-04-15  60229800  \n",
       "2021-04-16  82037300  \n",
       "\n",
       "[828 rows x 6 columns]"
      ]
     },
     "execution_count": 3,
     "metadata": {},
     "output_type": "execute_result"
    }
   ],
   "source": [
    "data"
   ]
  },
  {
   "cell_type": "code",
   "execution_count": 7,
   "metadata": {
    "collapsed": false
   },
   "outputs": [
    {
     "data": {
      "text/plain": [
       "DatetimeIndex(['2018-01-02', '2018-01-03', '2018-01-04', '2018-01-05',\n",
       "               '2018-01-06', '2018-01-07', '2018-01-08', '2018-01-09',\n",
       "               '2018-01-10', '2018-01-11',\n",
       "               ...\n",
       "               '2021-04-07', '2021-04-08', '2021-04-09', '2021-04-10',\n",
       "               '2021-04-11', '2021-04-12', '2021-04-13', '2021-04-14',\n",
       "               '2021-04-15', '2021-04-16'],\n",
       "              dtype='datetime64[ns]', length=1201, freq='D')"
      ]
     },
     "execution_count": 7,
     "metadata": {},
     "output_type": "execute_result"
    }
   ],
   "source": [
    "# add in missing dates\n",
    "date_range = pd.date_range(data.index[0],data.index[-1])\n",
    "date_range"
   ]
  },
  {
   "cell_type": "code",
   "execution_count": 9,
   "metadata": {
    "collapsed": false
   },
   "outputs": [
    {
     "data": {
      "text/html": [
       "<div>\n",
       "<style scoped>\n",
       "    .dataframe tbody tr th:only-of-type {\n",
       "        vertical-align: middle;\n",
       "    }\n",
       "\n",
       "    .dataframe tbody tr th {\n",
       "        vertical-align: top;\n",
       "    }\n",
       "\n",
       "    .dataframe thead th {\n",
       "        text-align: right;\n",
       "    }\n",
       "</style>\n",
       "<table border=\"1\" class=\"dataframe\">\n",
       "  <thead>\n",
       "    <tr style=\"text-align: right;\">\n",
       "      <th></th>\n",
       "    </tr>\n",
       "  </thead>\n",
       "  <tbody>\n",
       "    <tr>\n",
       "      <th>2018-01-02</th>\n",
       "    </tr>\n",
       "    <tr>\n",
       "      <th>2018-01-03</th>\n",
       "    </tr>\n",
       "    <tr>\n",
       "      <th>2018-01-04</th>\n",
       "    </tr>\n",
       "    <tr>\n",
       "      <th>2018-01-05</th>\n",
       "    </tr>\n",
       "    <tr>\n",
       "      <th>2018-01-06</th>\n",
       "    </tr>\n",
       "  </tbody>\n",
       "</table>\n",
       "</div>"
      ],
      "text/plain": [
       "Empty DataFrame\n",
       "Columns: []\n",
       "Index: [2018-01-02 00:00:00, 2018-01-03 00:00:00, 2018-01-04 00:00:00, 2018-01-05 00:00:00, 2018-01-06 00:00:00]"
      ]
     },
     "execution_count": 9,
     "metadata": {},
     "output_type": "execute_result"
    }
   ],
   "source": [
    "# make a new dataframe containing all dates\n",
    "df = pd.DataFrame(index = date_range)\n",
    "df.head()"
   ]
  },
  {
   "cell_type": "code",
   "execution_count": 10,
   "metadata": {
    "collapsed": false
   },
   "outputs": [
    {
     "data": {
      "text/html": [
       "<div>\n",
       "<style scoped>\n",
       "    .dataframe tbody tr th:only-of-type {\n",
       "        vertical-align: middle;\n",
       "    }\n",
       "\n",
       "    .dataframe tbody tr th {\n",
       "        vertical-align: top;\n",
       "    }\n",
       "\n",
       "    .dataframe thead th {\n",
       "        text-align: right;\n",
       "    }\n",
       "</style>\n",
       "<table border=\"1\" class=\"dataframe\">\n",
       "  <thead>\n",
       "    <tr style=\"text-align: right;\">\n",
       "      <th></th>\n",
       "      <th>Open</th>\n",
       "      <th>High</th>\n",
       "      <th>Low</th>\n",
       "      <th>Close</th>\n",
       "      <th>Adj Close</th>\n",
       "      <th>Volume</th>\n",
       "    </tr>\n",
       "  </thead>\n",
       "  <tbody>\n",
       "    <tr>\n",
       "      <th>2018-01-02</th>\n",
       "      <td>267.839996</td>\n",
       "      <td>268.809998</td>\n",
       "      <td>267.399994</td>\n",
       "      <td>268.769989</td>\n",
       "      <td>250.768402</td>\n",
       "      <td>86655700.0</td>\n",
       "    </tr>\n",
       "    <tr>\n",
       "      <th>2018-01-03</th>\n",
       "      <td>268.959991</td>\n",
       "      <td>270.640015</td>\n",
       "      <td>268.959991</td>\n",
       "      <td>270.470001</td>\n",
       "      <td>252.354568</td>\n",
       "      <td>90070400.0</td>\n",
       "    </tr>\n",
       "    <tr>\n",
       "      <th>2018-01-04</th>\n",
       "      <td>271.200012</td>\n",
       "      <td>272.160004</td>\n",
       "      <td>270.540009</td>\n",
       "      <td>271.609985</td>\n",
       "      <td>253.418167</td>\n",
       "      <td>80636400.0</td>\n",
       "    </tr>\n",
       "    <tr>\n",
       "      <th>2018-01-05</th>\n",
       "      <td>272.510010</td>\n",
       "      <td>273.559998</td>\n",
       "      <td>271.950012</td>\n",
       "      <td>273.420013</td>\n",
       "      <td>255.106979</td>\n",
       "      <td>83524000.0</td>\n",
       "    </tr>\n",
       "    <tr>\n",
       "      <th>2018-01-06</th>\n",
       "      <td>NaN</td>\n",
       "      <td>NaN</td>\n",
       "      <td>NaN</td>\n",
       "      <td>NaN</td>\n",
       "      <td>NaN</td>\n",
       "      <td>NaN</td>\n",
       "    </tr>\n",
       "  </tbody>\n",
       "</table>\n",
       "</div>"
      ],
      "text/plain": [
       "                  Open        High         Low       Close   Adj Close  \\\n",
       "2018-01-02  267.839996  268.809998  267.399994  268.769989  250.768402   \n",
       "2018-01-03  268.959991  270.640015  268.959991  270.470001  252.354568   \n",
       "2018-01-04  271.200012  272.160004  270.540009  271.609985  253.418167   \n",
       "2018-01-05  272.510010  273.559998  271.950012  273.420013  255.106979   \n",
       "2018-01-06         NaN         NaN         NaN         NaN         NaN   \n",
       "\n",
       "                Volume  \n",
       "2018-01-02  86655700.0  \n",
       "2018-01-03  90070400.0  \n",
       "2018-01-04  80636400.0  \n",
       "2018-01-05  83524000.0  \n",
       "2018-01-06         NaN  "
      ]
     },
     "execution_count": 10,
     "metadata": {},
     "output_type": "execute_result"
    }
   ],
   "source": [
    "df = df.join(data,how='outer')\n",
    "df.head()"
   ]
  },
  {
   "cell_type": "code",
   "execution_count": 11,
   "metadata": {
    "collapsed": false
   },
   "outputs": [
    {
     "data": {
      "text/html": [
       "<div>\n",
       "<style scoped>\n",
       "    .dataframe tbody tr th:only-of-type {\n",
       "        vertical-align: middle;\n",
       "    }\n",
       "\n",
       "    .dataframe tbody tr th {\n",
       "        vertical-align: top;\n",
       "    }\n",
       "\n",
       "    .dataframe thead th {\n",
       "        text-align: right;\n",
       "    }\n",
       "</style>\n",
       "<table border=\"1\" class=\"dataframe\">\n",
       "  <thead>\n",
       "    <tr style=\"text-align: right;\">\n",
       "      <th></th>\n",
       "      <th>Open</th>\n",
       "      <th>High</th>\n",
       "      <th>Low</th>\n",
       "      <th>Close</th>\n",
       "      <th>Adj Close</th>\n",
       "      <th>Volume</th>\n",
       "    </tr>\n",
       "  </thead>\n",
       "  <tbody>\n",
       "    <tr>\n",
       "      <th>2018-01-02</th>\n",
       "      <td>267.839996</td>\n",
       "      <td>268.809998</td>\n",
       "      <td>267.399994</td>\n",
       "      <td>268.769989</td>\n",
       "      <td>250.768402</td>\n",
       "      <td>86655700.0</td>\n",
       "    </tr>\n",
       "    <tr>\n",
       "      <th>2018-01-03</th>\n",
       "      <td>268.959991</td>\n",
       "      <td>270.640015</td>\n",
       "      <td>268.959991</td>\n",
       "      <td>270.470001</td>\n",
       "      <td>252.354568</td>\n",
       "      <td>90070400.0</td>\n",
       "    </tr>\n",
       "    <tr>\n",
       "      <th>2018-01-04</th>\n",
       "      <td>271.200012</td>\n",
       "      <td>272.160004</td>\n",
       "      <td>270.540009</td>\n",
       "      <td>271.609985</td>\n",
       "      <td>253.418167</td>\n",
       "      <td>80636400.0</td>\n",
       "    </tr>\n",
       "    <tr>\n",
       "      <th>2018-01-05</th>\n",
       "      <td>272.510010</td>\n",
       "      <td>273.559998</td>\n",
       "      <td>271.950012</td>\n",
       "      <td>273.420013</td>\n",
       "      <td>255.106979</td>\n",
       "      <td>83524000.0</td>\n",
       "    </tr>\n",
       "    <tr>\n",
       "      <th>2018-01-06</th>\n",
       "      <td>272.510010</td>\n",
       "      <td>273.559998</td>\n",
       "      <td>271.950012</td>\n",
       "      <td>273.420013</td>\n",
       "      <td>255.106979</td>\n",
       "      <td>0.0</td>\n",
       "    </tr>\n",
       "    <tr>\n",
       "      <th>2018-01-07</th>\n",
       "      <td>272.510010</td>\n",
       "      <td>273.559998</td>\n",
       "      <td>271.950012</td>\n",
       "      <td>273.420013</td>\n",
       "      <td>255.106979</td>\n",
       "      <td>0.0</td>\n",
       "    </tr>\n",
       "    <tr>\n",
       "      <th>2018-01-08</th>\n",
       "      <td>273.309998</td>\n",
       "      <td>274.100006</td>\n",
       "      <td>272.980011</td>\n",
       "      <td>273.920013</td>\n",
       "      <td>255.573486</td>\n",
       "      <td>57319200.0</td>\n",
       "    </tr>\n",
       "    <tr>\n",
       "      <th>2018-01-09</th>\n",
       "      <td>274.399994</td>\n",
       "      <td>275.250000</td>\n",
       "      <td>274.079987</td>\n",
       "      <td>274.540009</td>\n",
       "      <td>256.151978</td>\n",
       "      <td>57254000.0</td>\n",
       "    </tr>\n",
       "    <tr>\n",
       "      <th>2018-01-10</th>\n",
       "      <td>273.679993</td>\n",
       "      <td>274.420013</td>\n",
       "      <td>272.920013</td>\n",
       "      <td>274.119995</td>\n",
       "      <td>255.760117</td>\n",
       "      <td>69574300.0</td>\n",
       "    </tr>\n",
       "    <tr>\n",
       "      <th>2018-01-11</th>\n",
       "      <td>274.750000</td>\n",
       "      <td>276.119995</td>\n",
       "      <td>274.559998</td>\n",
       "      <td>276.119995</td>\n",
       "      <td>257.626099</td>\n",
       "      <td>62361500.0</td>\n",
       "    </tr>\n",
       "  </tbody>\n",
       "</table>\n",
       "</div>"
      ],
      "text/plain": [
       "                  Open        High         Low       Close   Adj Close  \\\n",
       "2018-01-02  267.839996  268.809998  267.399994  268.769989  250.768402   \n",
       "2018-01-03  268.959991  270.640015  268.959991  270.470001  252.354568   \n",
       "2018-01-04  271.200012  272.160004  270.540009  271.609985  253.418167   \n",
       "2018-01-05  272.510010  273.559998  271.950012  273.420013  255.106979   \n",
       "2018-01-06  272.510010  273.559998  271.950012  273.420013  255.106979   \n",
       "2018-01-07  272.510010  273.559998  271.950012  273.420013  255.106979   \n",
       "2018-01-08  273.309998  274.100006  272.980011  273.920013  255.573486   \n",
       "2018-01-09  274.399994  275.250000  274.079987  274.540009  256.151978   \n",
       "2018-01-10  273.679993  274.420013  272.920013  274.119995  255.760117   \n",
       "2018-01-11  274.750000  276.119995  274.559998  276.119995  257.626099   \n",
       "\n",
       "                Volume  \n",
       "2018-01-02  86655700.0  \n",
       "2018-01-03  90070400.0  \n",
       "2018-01-04  80636400.0  \n",
       "2018-01-05  83524000.0  \n",
       "2018-01-06         0.0  \n",
       "2018-01-07         0.0  \n",
       "2018-01-08  57319200.0  \n",
       "2018-01-09  57254000.0  \n",
       "2018-01-10  69574300.0  \n",
       "2018-01-11  62361500.0  "
      ]
     },
     "execution_count": 11,
     "metadata": {},
     "output_type": "execute_result"
    }
   ],
   "source": [
    "# fill in missing data\n",
    "df[['Open','High','Low','Close','Adj Close']] = \\\n",
    "    df[['Open','High','Low','Close','Adj Close']].fillna(method='ffill')\n",
    "df['Volume'] = df['Volume'].fillna(0)\n",
    "df.head(10)"
   ]
  },
  {
   "cell_type": "code",
   "execution_count": 12,
   "metadata": {
    "collapsed": true
   },
   "outputs": [],
   "source": [
    "# save it just in case need \n",
    "df.to_csv('daily_price_full.csv')"
   ]
  },
  {
   "cell_type": "code",
   "execution_count": 13,
   "metadata": {
    "collapsed": false
   },
   "outputs": [
    {
     "name": "stderr",
     "output_type": "stream",
     "text": [
      "'head' is not recognized as an internal or external command,\n",
      "operable program or batch file.\n"
     ]
    }
   ],
   "source": [
    "# check format\n",
    "!head daily_price_full.csv"
   ]
  },
  {
   "cell_type": "code",
   "execution_count": 14,
   "metadata": {
    "collapsed": true
   },
   "outputs": [],
   "source": [
    "# AWS Forecast requires a column called item-id\n",
    "df['item_id'] = 'SPY'"
   ]
  },
  {
   "cell_type": "code",
   "execution_count": 15,
   "metadata": {
    "collapsed": false
   },
   "outputs": [
    {
     "data": {
      "text/html": [
       "<div>\n",
       "<style scoped>\n",
       "    .dataframe tbody tr th:only-of-type {\n",
       "        vertical-align: middle;\n",
       "    }\n",
       "\n",
       "    .dataframe tbody tr th {\n",
       "        vertical-align: top;\n",
       "    }\n",
       "\n",
       "    .dataframe thead th {\n",
       "        text-align: right;\n",
       "    }\n",
       "</style>\n",
       "<table border=\"1\" class=\"dataframe\">\n",
       "  <thead>\n",
       "    <tr style=\"text-align: right;\">\n",
       "      <th></th>\n",
       "      <th>Open</th>\n",
       "      <th>High</th>\n",
       "      <th>Low</th>\n",
       "      <th>Close</th>\n",
       "      <th>Adj Close</th>\n",
       "      <th>Volume</th>\n",
       "      <th>item_id</th>\n",
       "    </tr>\n",
       "  </thead>\n",
       "  <tbody>\n",
       "    <tr>\n",
       "      <th>2018-01-02</th>\n",
       "      <td>267.839996</td>\n",
       "      <td>268.809998</td>\n",
       "      <td>267.399994</td>\n",
       "      <td>268.769989</td>\n",
       "      <td>250.768402</td>\n",
       "      <td>86655700.0</td>\n",
       "      <td>SPY</td>\n",
       "    </tr>\n",
       "    <tr>\n",
       "      <th>2018-01-03</th>\n",
       "      <td>268.959991</td>\n",
       "      <td>270.640015</td>\n",
       "      <td>268.959991</td>\n",
       "      <td>270.470001</td>\n",
       "      <td>252.354568</td>\n",
       "      <td>90070400.0</td>\n",
       "      <td>SPY</td>\n",
       "    </tr>\n",
       "    <tr>\n",
       "      <th>2018-01-04</th>\n",
       "      <td>271.200012</td>\n",
       "      <td>272.160004</td>\n",
       "      <td>270.540009</td>\n",
       "      <td>271.609985</td>\n",
       "      <td>253.418167</td>\n",
       "      <td>80636400.0</td>\n",
       "      <td>SPY</td>\n",
       "    </tr>\n",
       "    <tr>\n",
       "      <th>2018-01-05</th>\n",
       "      <td>272.510010</td>\n",
       "      <td>273.559998</td>\n",
       "      <td>271.950012</td>\n",
       "      <td>273.420013</td>\n",
       "      <td>255.106979</td>\n",
       "      <td>83524000.0</td>\n",
       "      <td>SPY</td>\n",
       "    </tr>\n",
       "    <tr>\n",
       "      <th>2018-01-06</th>\n",
       "      <td>272.510010</td>\n",
       "      <td>273.559998</td>\n",
       "      <td>271.950012</td>\n",
       "      <td>273.420013</td>\n",
       "      <td>255.106979</td>\n",
       "      <td>0.0</td>\n",
       "      <td>SPY</td>\n",
       "    </tr>\n",
       "  </tbody>\n",
       "</table>\n",
       "</div>"
      ],
      "text/plain": [
       "                  Open        High         Low       Close   Adj Close  \\\n",
       "2018-01-02  267.839996  268.809998  267.399994  268.769989  250.768402   \n",
       "2018-01-03  268.959991  270.640015  268.959991  270.470001  252.354568   \n",
       "2018-01-04  271.200012  272.160004  270.540009  271.609985  253.418167   \n",
       "2018-01-05  272.510010  273.559998  271.950012  273.420013  255.106979   \n",
       "2018-01-06  272.510010  273.559998  271.950012  273.420013  255.106979   \n",
       "\n",
       "                Volume item_id  \n",
       "2018-01-02  86655700.0     SPY  \n",
       "2018-01-03  90070400.0     SPY  \n",
       "2018-01-04  80636400.0     SPY  \n",
       "2018-01-05  83524000.0     SPY  \n",
       "2018-01-06         0.0     SPY  "
      ]
     },
     "execution_count": 15,
     "metadata": {},
     "output_type": "execute_result"
    }
   ],
   "source": [
    "#Leave the last 30 points for forecast comparison\n",
    "FORECAST_LENGTH = 30\n",
    "train = df.iloc[:-FORECAST_LENGTH]\n",
    "train.head()"
   ]
  },
  {
   "cell_type": "code",
   "execution_count": 19,
   "metadata": {
    "collapsed": true
   },
   "outputs": [],
   "source": [
    "# AWS differentiates btw 'target time series' and 'related time series'\n",
    "train_target_series = train[['Close','item_id']]\n",
    "train_related_series = train[['Open','High','Low','Volume','item_id']]"
   ]
  },
  {
   "cell_type": "code",
   "execution_count": 20,
   "metadata": {
    "collapsed": false
   },
   "outputs": [],
   "source": [
    "# Save the data which we will upload to S3 later\n",
    "train_target_series.to_csv('daily_price_target_series.csv',header=None)\n",
    "train_related_series.to_csv('daily_price_related_series.csv',header=None)"
   ]
  },
  {
   "attachments": {},
   "cell_type": "markdown",
   "metadata": {},
   "source": [
    "# Create Dataset Group and Upload Data"
   ]
  },
  {
   "cell_type": "code",
   "execution_count": 60,
   "metadata": {
    "collapsed": true
   },
   "outputs": [],
   "source": [
    "bucket_name ='awsforecast-test'\n",
    "region = 'ap-southeast-1'"
   ]
  },
  {
   "cell_type": "code",
   "execution_count": 29,
   "metadata": {
    "collapsed": true
   },
   "outputs": [],
   "source": [
    "role_arn = 'arn:aws:iam::064707150529:role/ForecastRole'"
   ]
  },
  {
   "cell_type": "code",
   "execution_count": 30,
   "metadata": {
    "collapsed": true
   },
   "outputs": [],
   "source": [
    "# CREATE S3 Client\n",
    "s3 = boto3.client('s3',region_name=region)"
   ]
  },
  {
   "cell_type": "code",
   "execution_count": 31,
   "metadata": {
    "collapsed": true
   },
   "outputs": [],
   "source": [
    "DATASET_FREQUENCY = 'D'\n",
    "TIMESTAMP_FORMAT = 'yyyy-MM-dd'\n",
    "dataset_group = 'daily_forecast_dataset_group'"
   ]
  },
  {
   "cell_type": "code",
   "execution_count": 32,
   "metadata": {
    "collapsed": true
   },
   "outputs": [],
   "source": [
    "# create boto3 clients\n",
    "forecast_client = boto3.client(service_name='forecast',region_name=region)\n",
    "forecastquery_client = boto3.client(service_name='forecastquery',region_name=region)"
   ]
  },
  {
   "cell_type": "code",
   "execution_count": 33,
   "metadata": {
    "collapsed": false
   },
   "outputs": [],
   "source": [
    "# create dataset group\n",
    "create_dataset_group_response = forecast_client.create_dataset_group(\n",
    "    Domain='CUSTOM',\n",
    "    DatasetGroupName=dataset_group\n",
    ")"
   ]
  },
  {
   "cell_type": "code",
   "execution_count": 34,
   "metadata": {
    "collapsed": false
   },
   "outputs": [
    {
     "name": "stdout",
     "output_type": "stream",
     "text": [
      "ACTIVE\n",
      "2021-12-31 08:12:10.589000+08:00\n",
      "2021-12-31 08:12:10.589000+08:00\n"
     ]
    }
   ],
   "source": [
    "# wait until it's complete\n",
    "dataset_group_arn = create_dataset_group_response['DatasetGroupArn']\n",
    "describe = forecast_client.describe_dataset_group(DatasetGroupArn=dataset_group_arn)\n",
    "print(describe['Status'])\n",
    "print(describe['CreationTime'])\n",
    "print(describe['LastModificationTime'])"
   ]
  },
  {
   "cell_type": "code",
   "execution_count": 48,
   "metadata": {
    "collapsed": false
   },
   "outputs": [],
   "source": [
    "# Schema for target dataset\n",
    "# Must match the columns of the csv\n",
    "target_schema = {\n",
    "    'Attributes':[\n",
    "    {\n",
    "        'AttributeName':'timestamp',\n",
    "        'AttributeType':'timestamp'\n",
    "    },\n",
    "    {\n",
    "        'AttributeName':'target_value',\n",
    "        'AttributeType':'float'\n",
    "    },\n",
    "    {\n",
    "        'AttributeName':'item_id',\n",
    "        'AttributeType':'string'\n",
    "    }\n",
    "    ]\n",
    "}"
   ]
  },
  {
   "cell_type": "code",
   "execution_count": 49,
   "metadata": {
    "collapsed": true
   },
   "outputs": [],
   "source": [
    "# give your dataset a name\n",
    "target_dataset_name = 'close_prices'"
   ]
  },
  {
   "cell_type": "code",
   "execution_count": 50,
   "metadata": {
    "collapsed": false
   },
   "outputs": [],
   "source": [
    "# create a dataset\n",
    "r = forecast_client.create_dataset(\n",
    "    Domain = 'CUSTOM',\n",
    "    DatasetType = 'TARGET_TIME_SERIES',\n",
    "    DatasetName = target_dataset_name,\n",
    "    DataFrequency = DATASET_FREQUENCY,\n",
    "    Schema = target_schema\n",
    ")"
   ]
  },
  {
   "cell_type": "code",
   "execution_count": 51,
   "metadata": {
    "collapsed": false
   },
   "outputs": [
    {
     "name": "stdout",
     "output_type": "stream",
     "text": [
      "ACTIVE\n",
      "2021-12-31 08:25:21.759000+08:00\n",
      "2021-12-31 08:25:21.759000+08:00\n"
     ]
    }
   ],
   "source": [
    "# check the response\n",
    "target_dataset_arn = r['DatasetArn']\n",
    "describe = forecast_client.describe_dataset(DatasetArn = target_dataset_arn)\n",
    "print(describe['Status'])\n",
    "print(describe['CreationTime'])\n",
    "print(describe['LastModificationTime'])"
   ]
  },
  {
   "cell_type": "code",
   "execution_count": 52,
   "metadata": {
    "collapsed": true
   },
   "outputs": [],
   "source": [
    "# Schema for related dataset\n",
    "# Must match the columns of the CSV\n",
    "# Optional \n",
    "related_schema = {\n",
    "    'Attributes':[\n",
    "        {\n",
    "            'AttributeName':'timestamp',\n",
    "            'AttributeType':'timestamp'\n",
    "        },\n",
    "        {\n",
    "            'AttributeName':'open_value',\n",
    "            'AttributeType':'float'\n",
    "        },\n",
    "        {\n",
    "            'AttributeName':'high_value',\n",
    "            'AttributeType':'float'\n",
    "        },\n",
    "        {\n",
    "            'AttributeName':'low_value',\n",
    "            'AttributeType':'float'\n",
    "        },\n",
    "        {\n",
    "            'AttributeName':'volume_value',\n",
    "            'AttributeType':'float'\n",
    "        },\n",
    "        {\n",
    "            'AttributeName':'item_id',\n",
    "            'AttributeType':'string'\n",
    "        }\n",
    "        \n",
    "    ]\n",
    "}"
   ]
  },
  {
   "cell_type": "code",
   "execution_count": 53,
   "metadata": {
    "collapsed": true
   },
   "outputs": [],
   "source": [
    "# give your dataset a name\n",
    "related_dataset_name = 'related_data'"
   ]
  },
  {
   "cell_type": "code",
   "execution_count": 54,
   "metadata": {
    "collapsed": true
   },
   "outputs": [],
   "source": [
    "# create a dataset\n",
    "r = forecast_client.create_dataset(\n",
    "    Domain='CUSTOM',\n",
    "    DatasetType='RELATED_TIME_SERIES',\n",
    "    DatasetName=related_dataset_name,\n",
    "    DataFrequency=DATASET_FREQUENCY,\n",
    "    Schema=related_schema\n",
    ")"
   ]
  },
  {
   "cell_type": "code",
   "execution_count": 55,
   "metadata": {
    "collapsed": false
   },
   "outputs": [
    {
     "name": "stdout",
     "output_type": "stream",
     "text": [
      "ACTIVE\n",
      "2021-12-31 08:43:52.526000+08:00\n",
      "2021-12-31 08:43:52.526000+08:00\n"
     ]
    }
   ],
   "source": [
    "# check the response\n",
    "related_dataset_arn = r['DatasetArn']\n",
    "describe = forecast_client.describe_dataset(DatasetArn=related_dataset_arn)\n",
    "print(describe['Status'])\n",
    "print(describe['CreationTime'])\n",
    "print(describe['LastModificationTime'])"
   ]
  },
  {
   "cell_type": "code",
   "execution_count": 58,
   "metadata": {
    "collapsed": false
   },
   "outputs": [
    {
     "data": {
      "text/plain": [
       "{'ResponseMetadata': {'HTTPHeaders': {'connection': 'keep-alive',\n",
       "   'content-length': '2',\n",
       "   'content-type': 'application/x-amz-json-1.1',\n",
       "   'date': 'Fri, 31 Dec 2021 00:48:12 GMT',\n",
       "   'x-amzn-requestid': '9b28937a-444d-4504-85aa-aa858fa6f292'},\n",
       "  'HTTPStatusCode': 200,\n",
       "  'RequestId': '9b28937a-444d-4504-85aa-aa858fa6f292',\n",
       "  'RetryAttempts': 0}}"
      ]
     },
     "execution_count": 58,
     "metadata": {},
     "output_type": "execute_result"
    }
   ],
   "source": [
    "# Add your datasets to the dataset group\n",
    "dataset_arns = [target_dataset_arn,related_dataset_arn]\n",
    "forecast_client.update_dataset_group(\n",
    "    DatasetGroupArn=dataset_group_arn,\n",
    "    DatasetArns=dataset_arns\n",
    ")"
   ]
  },
  {
   "cell_type": "code",
   "execution_count": 61,
   "metadata": {
    "collapsed": false
   },
   "outputs": [],
   "source": [
    "# Upload data to s3\n",
    "s3r = boto3.resource('s3',region_name=region)\n",
    "s3r.Bucket(bucket_name).Object(\n",
    "    'daily_price_target_series.csv').upload_file('daily_price_target_series.csv')\n",
    "s3r.Bucket(bucket_name).Object(\n",
    "    'daily_price_related_series.csv').upload_file('daily_price_related_series.csv')"
   ]
  },
  {
   "cell_type": "code",
   "execution_count": 65,
   "metadata": {
    "collapsed": true
   },
   "outputs": [],
   "source": [
    "# Path to your data\n",
    "s3_target_path = \"s3://\"+bucket_name+\"/daily_price_target_series.csv\"\n",
    "s3_related_path = \"s3://\"+bucket_name+\"/daily_price_related_series.csv\""
   ]
  },
  {
   "cell_type": "code",
   "execution_count": 66,
   "metadata": {
    "collapsed": false
   },
   "outputs": [],
   "source": [
    "# launch an import job\n",
    "target_import_job_response = forecast_client.create_dataset_import_job(\n",
    "    DatasetImportJobName = dataset_group,\n",
    "    DatasetArn = target_dataset_arn,\n",
    "    DataSource = {\n",
    "        'S3Config':{\n",
    "            'Path':s3_target_path,\n",
    "            'RoleArn':role_arn\n",
    "        }\n",
    "    },\n",
    "    TimestampFormat = TIMESTAMP_FORMAT\n",
    ")"
   ]
  },
  {
   "cell_type": "code",
   "execution_count": 71,
   "metadata": {
    "collapsed": false
   },
   "outputs": [
    {
     "name": "stdout",
     "output_type": "stream",
     "text": [
      "ACTIVE\n",
      "2021-12-31 08:57:01.080000+08:00\n",
      "2021-12-31 09:03:15.165000+08:00\n"
     ]
    }
   ],
   "source": [
    "target_import_job_arn = target_import_job_response['DatasetImportJobArn']\n",
    "\n",
    "# Check if it's done \n",
    "describe = forecast_client.describe_dataset_import_job(DatasetImportJobArn=target_import_job_arn)\n",
    "print(describe['Status'])\n",
    "print(describe['CreationTime'])\n",
    "print(describe['LastModificationTime'])"
   ]
  },
  {
   "cell_type": "code",
   "execution_count": 72,
   "metadata": {
    "collapsed": true
   },
   "outputs": [],
   "source": [
    "# Launch an import job for related dataset - dont have to wair for previous job\n",
    "related_import_job_response = forecast_client.create_dataset_import_job(\n",
    "    DatasetImportJobName = dataset_group,\n",
    "    DatasetArn = related_dataset_arn,\n",
    "    DataSource = {\n",
    "        'S3Config':{\n",
    "            'Path':s3_related_path,\n",
    "            'RoleArn':role_arn\n",
    "        }\n",
    "    },\n",
    "    TimestampFormat = TIMESTAMP_FORMAT\n",
    ")"
   ]
  },
  {
   "cell_type": "code",
   "execution_count": 74,
   "metadata": {
    "collapsed": false
   },
   "outputs": [
    {
     "name": "stdout",
     "output_type": "stream",
     "text": [
      "ACTIVE\n",
      "2021-12-31 09:09:01.584000+08:00\n",
      "2021-12-31 09:11:14.978000+08:00\n"
     ]
    }
   ],
   "source": [
    "related_import_job_arn = related_import_job_response['DatasetImportJobArn']\n",
    "\n",
    "#check if is done\n",
    "describe = forecast_client.describe_dataset_import_job(DatasetImportJobArn = related_import_job_arn)\n",
    "print(describe['Status'])\n",
    "print(describe['CreationTime'])\n",
    "print(describe['LastModificationTime'])"
   ]
  },
  {
   "attachments": {},
   "cell_type": "markdown",
   "metadata": {},
   "source": [
    "# Make Predictor"
   ]
  },
  {
   "cell_type": "code",
   "execution_count": 75,
   "metadata": {
    "collapsed": true
   },
   "outputs": [],
   "source": [
    "algorithm_arn = 'arn:aws:forecast:::algorithm/Deep_AR_Plus'\n",
    "predictor_name='deep_ar_plus_predictor'"
   ]
  },
  {
   "cell_type": "code",
   "execution_count": 78,
   "metadata": {
    "collapsed": false
   },
   "outputs": [],
   "source": [
    "# By default will return [0.1,0.5,0.9]\n",
    "create_predictor_response = forecast_client.create_predictor(\n",
    "    PredictorName=predictor_name,\n",
    "    AlgorithmArn=algorithm_arn,\n",
    "    ForecastHorizon=FORECAST_LENGTH,\n",
    "    PerformAutoML=False,\n",
    "    PerformHPO=False,\n",
    "    InputDataConfig={\"DatasetGroupArn\":dataset_group_arn},\n",
    "    FeaturizationConfig={'ForecastFrequency':DATASET_FREQUENCY}\n",
    ")"
   ]
  },
  {
   "cell_type": "code",
   "execution_count": 81,
   "metadata": {
    "collapsed": false
   },
   "outputs": [
    {
     "ename": "KeyError",
     "evalue": "'Status'",
     "output_type": "error",
     "traceback": [
      "\u001b[0;31m---------------------------------------------------------------------------\u001b[0m",
      "\u001b[0;31mKeyError\u001b[0m                                  Traceback (most recent call last)",
      "\u001b[0;32m<ipython-input-81-484e50f60db1>\u001b[0m in \u001b[0;36m<module>\u001b[0;34m()\u001b[0m\n\u001b[0;32m----> 1\u001b[0;31m \u001b[0mcreate_predictor_response\u001b[0m\u001b[1;33m[\u001b[0m\u001b[1;34m'Status'\u001b[0m\u001b[1;33m]\u001b[0m\u001b[1;33m\u001b[0m\u001b[0m\n\u001b[0m",
      "\u001b[0;31mKeyError\u001b[0m: 'Status'"
     ]
    }
   ],
   "source": [
    "create_predictor_response['Status']"
   ]
  },
  {
   "cell_type": "code",
   "execution_count": 83,
   "metadata": {
    "collapsed": false
   },
   "outputs": [],
   "source": [
    "predictor_arn = create_predictor_response['PredictorArn']"
   ]
  },
  {
   "cell_type": "code",
   "execution_count": 88,
   "metadata": {
    "collapsed": false
   },
   "outputs": [
    {
     "name": "stdout",
     "output_type": "stream",
     "text": [
      "ACTIVE\n",
      "2021-12-31 09:25:48.593000+08:00\n",
      "2021-12-31 10:07:48.338000+08:00\n"
     ]
    }
   ],
   "source": [
    "# wait for active\n",
    "describe = forecast_client.describe_predictor(PredictorArn=predictor_arn)\n",
    "print(describe['Status'])\n",
    "print(describe['CreationTime'])\n",
    "print(describe['LastModificationTime'])"
   ]
  },
  {
   "cell_type": "code",
   "execution_count": 89,
   "metadata": {
    "collapsed": false
   },
   "outputs": [
    {
     "data": {
      "text/plain": [
       "{'PredictorEvaluationResults': [{'AlgorithmArn': 'arn:aws:forecast:::algorithm/Deep_AR_Plus',\n",
       "   'TestWindows': [{'EvaluationType': 'SUMMARY',\n",
       "     'Metrics': {'RMSE': 20.047982396477813,\n",
       "      'WeightedQuantileLosses': [{'LossValue': 0.013173230966853598,\n",
       "        'Quantile': 0.9},\n",
       "       {'LossValue': 0.045450513329978286, 'Quantile': 0.5},\n",
       "       {'LossValue': 0.0500653759325753, 'Quantile': 0.1}]}},\n",
       "    {'EvaluationType': 'COMPUTED',\n",
       "     'ItemCount': 1,\n",
       "     'Metrics': {'RMSE': 20.047982396477813,\n",
       "      'WeightedQuantileLosses': [{'LossValue': 0.013173230966853598,\n",
       "        'Quantile': 0.9},\n",
       "       {'LossValue': 0.045450513329978286, 'Quantile': 0.5},\n",
       "       {'LossValue': 0.0500653759325753, 'Quantile': 0.1}]},\n",
       "     'TestWindowEnd': datetime.datetime(2021, 3, 18, 8, 0, tzinfo=tzlocal()),\n",
       "     'TestWindowStart': datetime.datetime(2021, 2, 16, 8, 0, tzinfo=tzlocal())}]}],\n",
       " 'ResponseMetadata': {'HTTPHeaders': {'connection': 'keep-alive',\n",
       "   'content-length': '1084',\n",
       "   'content-type': 'application/x-amz-json-1.1',\n",
       "   'date': 'Fri, 31 Dec 2021 02:34:57 GMT',\n",
       "   'x-amzn-requestid': '6749202b-e6a7-4e63-a378-d79ffac9c7ec'},\n",
       "  'HTTPStatusCode': 200,\n",
       "  'RequestId': '6749202b-e6a7-4e63-a378-d79ffac9c7ec',\n",
       "  'RetryAttempts': 0}}"
      ]
     },
     "execution_count": 89,
     "metadata": {},
     "output_type": "execute_result"
    }
   ],
   "source": [
    "# GET ACCURACY METRICS\n",
    "forecast_client.get_accuracy_metrics(PredictorArn=predictor_arn)"
   ]
  },
  {
   "attachments": {},
   "cell_type": "markdown",
   "metadata": {},
   "source": [
    "# Generate Forecast"
   ]
  },
  {
   "cell_type": "code",
   "execution_count": 90,
   "metadata": {
    "collapsed": true
   },
   "outputs": [],
   "source": [
    "forecast_name  = 'deep_ar_plus_forecast'"
   ]
  },
  {
   "cell_type": "code",
   "execution_count": 91,
   "metadata": {
    "collapsed": true
   },
   "outputs": [],
   "source": [
    "create_forecast_response = forecast_client.create_forecast(\n",
    "    ForecastName = forecast_name,\n",
    "    PredictorArn= predictor_arn\n",
    ")"
   ]
  },
  {
   "cell_type": "code",
   "execution_count": 92,
   "metadata": {
    "collapsed": true
   },
   "outputs": [],
   "source": [
    "forecast_arn = create_forecast_response['ForecastArn']"
   ]
  },
  {
   "cell_type": "code",
   "execution_count": 1,
   "metadata": {
    "collapsed": false
   },
   "outputs": [
    {
     "ename": "NameError",
     "evalue": "name 'forecast_client' is not defined",
     "output_type": "error",
     "traceback": [
      "\u001b[0;31m---------------------------------------------------------------------------\u001b[0m",
      "\u001b[0;31mNameError\u001b[0m                                 Traceback (most recent call last)",
      "\u001b[0;32m<ipython-input-1-eac81fa70a08>\u001b[0m in \u001b[0;36m<module>\u001b[0;34m()\u001b[0m\n\u001b[1;32m      1\u001b[0m \u001b[1;31m# take some time\u001b[0m\u001b[1;33m\u001b[0m\u001b[1;33m\u001b[0m\u001b[0m\n\u001b[0;32m----> 2\u001b[0;31m \u001b[0mdescribe\u001b[0m \u001b[1;33m=\u001b[0m \u001b[0mforecast_client\u001b[0m\u001b[1;33m.\u001b[0m\u001b[0mdescribe_forecast\u001b[0m\u001b[1;33m(\u001b[0m\u001b[0mForecastArn\u001b[0m \u001b[1;33m=\u001b[0m \u001b[0mforecast_arn\u001b[0m\u001b[1;33m)\u001b[0m\u001b[1;33m\u001b[0m\u001b[0m\n\u001b[0m\u001b[1;32m      3\u001b[0m \u001b[0mprint\u001b[0m\u001b[1;33m(\u001b[0m\u001b[0mdescribe\u001b[0m\u001b[1;33m[\u001b[0m\u001b[1;34m'Status'\u001b[0m\u001b[1;33m]\u001b[0m\u001b[1;33m)\u001b[0m\u001b[1;33m\u001b[0m\u001b[0m\n\u001b[1;32m      4\u001b[0m \u001b[0mprint\u001b[0m\u001b[1;33m(\u001b[0m\u001b[0mdescribe\u001b[0m\u001b[1;33m[\u001b[0m\u001b[1;34m'CreationTime'\u001b[0m\u001b[1;33m]\u001b[0m\u001b[1;33m)\u001b[0m\u001b[1;33m\u001b[0m\u001b[0m\n\u001b[1;32m      5\u001b[0m \u001b[0mprint\u001b[0m\u001b[1;33m(\u001b[0m\u001b[0mdescribe\u001b[0m\u001b[1;33m[\u001b[0m\u001b[1;34m'LastModificationTime'\u001b[0m\u001b[1;33m]\u001b[0m\u001b[1;33m)\u001b[0m\u001b[1;33m\u001b[0m\u001b[0m\n",
      "\u001b[0;31mNameError\u001b[0m: name 'forecast_client' is not defined"
     ]
    }
   ],
   "source": [
    "# take some time\n",
    "describe = forecast_client.describe_forecast(ForecastArn = forecast_arn)\n",
    "print(describe['Status'])\n",
    "print(describe['CreationTime'])\n",
    "print(describe['LastModificationTime'])"
   ]
  },
  {
   "attachments": {},
   "cell_type": "markdown",
   "metadata": {},
   "source": [
    "# Check Forecast"
   ]
  },
  {
   "cell_type": "code",
   "execution_count": 95,
   "metadata": {
    "collapsed": true
   },
   "outputs": [],
   "source": [
    "forecast_response = forecastquery_client.query_forecast(\n",
    "    ForecastArn = forecast_arn,\n",
    "    Filters={'item_id':'SPY'}\n",
    ")"
   ]
  },
  {
   "cell_type": "code",
   "execution_count": 96,
   "metadata": {
    "collapsed": false,
    "scrolled": true
   },
   "outputs": [
    {
     "data": {
      "text/plain": [
       "{'Forecast': {'Predictions': {'p10': [{'Timestamp': '2021-03-18T00:00:00',\n",
       "     'Value': 397.253692627},\n",
       "    {'Timestamp': '2021-03-19T00:00:00', 'Value': 399.1188964844},\n",
       "    {'Timestamp': '2021-03-20T00:00:00', 'Value': 400.5835266113},\n",
       "    {'Timestamp': '2021-03-21T00:00:00', 'Value': 400.8605651855},\n",
       "    {'Timestamp': '2021-03-22T00:00:00', 'Value': 401.3554382324},\n",
       "    {'Timestamp': '2021-03-23T00:00:00', 'Value': 403.5381774902},\n",
       "    {'Timestamp': '2021-03-24T00:00:00', 'Value': 404.8131713867},\n",
       "    {'Timestamp': '2021-03-25T00:00:00', 'Value': 406.3849487305},\n",
       "    {'Timestamp': '2021-03-26T00:00:00', 'Value': 405.3258056641},\n",
       "    {'Timestamp': '2021-03-27T00:00:00', 'Value': 405.7554016113},\n",
       "    {'Timestamp': '2021-03-28T00:00:00', 'Value': 404.4725341797},\n",
       "    {'Timestamp': '2021-03-29T00:00:00', 'Value': 404.5588989258},\n",
       "    {'Timestamp': '2021-03-30T00:00:00', 'Value': 402.9291992188},\n",
       "    {'Timestamp': '2021-03-31T00:00:00', 'Value': 405.5067749023},\n",
       "    {'Timestamp': '2021-04-01T00:00:00', 'Value': 412.6967468262},\n",
       "    {'Timestamp': '2021-04-02T00:00:00', 'Value': 415.6963195801},\n",
       "    {'Timestamp': '2021-04-03T00:00:00', 'Value': 415.8499145508},\n",
       "    {'Timestamp': '2021-04-04T00:00:00', 'Value': 420.5801696777},\n",
       "    {'Timestamp': '2021-04-05T00:00:00', 'Value': 421.2308349609},\n",
       "    {'Timestamp': '2021-04-06T00:00:00', 'Value': 422.9585876465},\n",
       "    {'Timestamp': '2021-04-07T00:00:00', 'Value': 424.3003845215},\n",
       "    {'Timestamp': '2021-04-08T00:00:00', 'Value': 427.3624267578},\n",
       "    {'Timestamp': '2021-04-09T00:00:00', 'Value': 426.5516052246},\n",
       "    {'Timestamp': '2021-04-10T00:00:00', 'Value': 427.1227416992},\n",
       "    {'Timestamp': '2021-04-11T00:00:00', 'Value': 427.0174865723},\n",
       "    {'Timestamp': '2021-04-12T00:00:00', 'Value': 426.7184448242},\n",
       "    {'Timestamp': '2021-04-13T00:00:00', 'Value': 427.3803405762},\n",
       "    {'Timestamp': '2021-04-14T00:00:00', 'Value': 428.5038146973},\n",
       "    {'Timestamp': '2021-04-15T00:00:00', 'Value': 429.4430847168},\n",
       "    {'Timestamp': '2021-04-16T00:00:00', 'Value': 429.313079834}],\n",
       "   'p50': [{'Timestamp': '2021-03-18T00:00:00', 'Value': 403.1485290527},\n",
       "    {'Timestamp': '2021-03-19T00:00:00', 'Value': 403.9856262207},\n",
       "    {'Timestamp': '2021-03-20T00:00:00', 'Value': 405.0178222656},\n",
       "    {'Timestamp': '2021-03-21T00:00:00', 'Value': 405.5785217285},\n",
       "    {'Timestamp': '2021-03-22T00:00:00', 'Value': 407.1477050781},\n",
       "    {'Timestamp': '2021-03-23T00:00:00', 'Value': 408.7125854492},\n",
       "    {'Timestamp': '2021-03-24T00:00:00', 'Value': 410.6450195312},\n",
       "    {'Timestamp': '2021-03-25T00:00:00', 'Value': 411.2656860352},\n",
       "    {'Timestamp': '2021-03-26T00:00:00', 'Value': 411.5241088867},\n",
       "    {'Timestamp': '2021-03-27T00:00:00', 'Value': 410.4920043945},\n",
       "    {'Timestamp': '2021-03-28T00:00:00', 'Value': 410.6842041016},\n",
       "    {'Timestamp': '2021-03-29T00:00:00', 'Value': 411.0898132324},\n",
       "    {'Timestamp': '2021-03-30T00:00:00', 'Value': 410.1674804688},\n",
       "    {'Timestamp': '2021-03-31T00:00:00', 'Value': 411.7300109863},\n",
       "    {'Timestamp': '2021-04-01T00:00:00', 'Value': 418.9994812012},\n",
       "    {'Timestamp': '2021-04-02T00:00:00', 'Value': 422.4119873047},\n",
       "    {'Timestamp': '2021-04-03T00:00:00', 'Value': 424.7873535156},\n",
       "    {'Timestamp': '2021-04-04T00:00:00', 'Value': 427.0208129883},\n",
       "    {'Timestamp': '2021-04-05T00:00:00', 'Value': 427.3329162598},\n",
       "    {'Timestamp': '2021-04-06T00:00:00', 'Value': 430.1647949219},\n",
       "    {'Timestamp': '2021-04-07T00:00:00', 'Value': 432.1430053711},\n",
       "    {'Timestamp': '2021-04-08T00:00:00', 'Value': 433.3706054688},\n",
       "    {'Timestamp': '2021-04-09T00:00:00', 'Value': 433.5001525879},\n",
       "    {'Timestamp': '2021-04-10T00:00:00', 'Value': 433.4087219238},\n",
       "    {'Timestamp': '2021-04-11T00:00:00', 'Value': 433.0441894531},\n",
       "    {'Timestamp': '2021-04-12T00:00:00', 'Value': 434.147644043},\n",
       "    {'Timestamp': '2021-04-13T00:00:00', 'Value': 434.6111450195},\n",
       "    {'Timestamp': '2021-04-14T00:00:00', 'Value': 435.8050231934},\n",
       "    {'Timestamp': '2021-04-15T00:00:00', 'Value': 437.1686096191},\n",
       "    {'Timestamp': '2021-04-16T00:00:00', 'Value': 436.1873779297}],\n",
       "   'p90': [{'Timestamp': '2021-03-18T00:00:00', 'Value': 408.1167907715},\n",
       "    {'Timestamp': '2021-03-19T00:00:00', 'Value': 409.0477600098},\n",
       "    {'Timestamp': '2021-03-20T00:00:00', 'Value': 410.4749755859},\n",
       "    {'Timestamp': '2021-03-21T00:00:00', 'Value': 411.5768127441},\n",
       "    {'Timestamp': '2021-03-22T00:00:00', 'Value': 412.7738037109},\n",
       "    {'Timestamp': '2021-03-23T00:00:00', 'Value': 415.198638916},\n",
       "    {'Timestamp': '2021-03-24T00:00:00', 'Value': 416.9973449707},\n",
       "    {'Timestamp': '2021-03-25T00:00:00', 'Value': 416.8652954102},\n",
       "    {'Timestamp': '2021-03-26T00:00:00', 'Value': 417.4155273438},\n",
       "    {'Timestamp': '2021-03-27T00:00:00', 'Value': 417.065612793},\n",
       "    {'Timestamp': '2021-03-28T00:00:00', 'Value': 416.8576049805},\n",
       "    {'Timestamp': '2021-03-29T00:00:00', 'Value': 418.2890319824},\n",
       "    {'Timestamp': '2021-03-30T00:00:00', 'Value': 418.8043823242},\n",
       "    {'Timestamp': '2021-03-31T00:00:00', 'Value': 420.2977905273},\n",
       "    {'Timestamp': '2021-04-01T00:00:00', 'Value': 426.6964416504},\n",
       "    {'Timestamp': '2021-04-02T00:00:00', 'Value': 429.8042297363},\n",
       "    {'Timestamp': '2021-04-03T00:00:00', 'Value': 431.7291564941},\n",
       "    {'Timestamp': '2021-04-04T00:00:00', 'Value': 433.8223571777},\n",
       "    {'Timestamp': '2021-04-05T00:00:00', 'Value': 435.8353271484},\n",
       "    {'Timestamp': '2021-04-06T00:00:00', 'Value': 437.6942443848},\n",
       "    {'Timestamp': '2021-04-07T00:00:00', 'Value': 439.1625366211},\n",
       "    {'Timestamp': '2021-04-08T00:00:00', 'Value': 440.6437683105},\n",
       "    {'Timestamp': '2021-04-09T00:00:00', 'Value': 441.9619140625},\n",
       "    {'Timestamp': '2021-04-10T00:00:00', 'Value': 441.4437866211},\n",
       "    {'Timestamp': '2021-04-11T00:00:00', 'Value': 440.2926940918},\n",
       "    {'Timestamp': '2021-04-12T00:00:00', 'Value': 441.9760742188},\n",
       "    {'Timestamp': '2021-04-13T00:00:00', 'Value': 443.2040405273},\n",
       "    {'Timestamp': '2021-04-14T00:00:00', 'Value': 443.5424804688},\n",
       "    {'Timestamp': '2021-04-15T00:00:00', 'Value': 444.6014404297},\n",
       "    {'Timestamp': '2021-04-16T00:00:00', 'Value': 444.7919921875}]}},\n",
       " 'ResponseMetadata': {'HTTPHeaders': {'connection': 'keep-alive',\n",
       "   'content-length': '5359',\n",
       "   'content-type': 'application/x-amz-json-1.1',\n",
       "   'date': 'Fri, 31 Dec 2021 03:22:55 GMT',\n",
       "   'x-amzn-requestid': '71641687-b3c4-49b2-a9f5-f109d0395726'},\n",
       "  'HTTPStatusCode': 200,\n",
       "  'RequestId': '71641687-b3c4-49b2-a9f5-f109d0395726',\n",
       "  'RetryAttempts': 0}}"
      ]
     },
     "execution_count": 96,
     "metadata": {},
     "output_type": "execute_result"
    }
   ],
   "source": [
    "forecast_response"
   ]
  },
  {
   "cell_type": "code",
   "execution_count": 97,
   "metadata": {
    "collapsed": true
   },
   "outputs": [],
   "source": [
    "def parse_aws_forecast(d10,d50,d90):\n",
    "    ts = pd.Timestamp(d10['Timestamp'])\n",
    "    val1 = d10['Value']\n",
    "    val2 = d50['Value']\n",
    "    val3 = d90['Value']\n",
    "    return ts,val1,val2,val3"
   ]
  },
  {
   "cell_type": "code",
   "execution_count": 99,
   "metadata": {
    "collapsed": false
   },
   "outputs": [],
   "source": [
    "p10 = forecast_response['Forecast']['Predictions']['p10']\n",
    "p50 = forecast_response['Forecast']['Predictions']['p50']\n",
    "p90 = forecast_response['Forecast']['Predictions']['p90']\n",
    "\n",
    "parsed = [parse_aws_forecast(d1,d2,d3) for d1,d2,d3 in zip(p10,p50,p90)]\n",
    "forecast_df = pd.DataFrame(parsed,columns = ['timestamp','p10','p50','p90'])\n",
    "forecast_df.set_index('timestamp',inplace=True)"
   ]
  },
  {
   "cell_type": "code",
   "execution_count": 100,
   "metadata": {
    "collapsed": false,
    "scrolled": true
   },
   "outputs": [
    {
     "data": {
      "text/html": [
       "<div>\n",
       "<style scoped>\n",
       "    .dataframe tbody tr th:only-of-type {\n",
       "        vertical-align: middle;\n",
       "    }\n",
       "\n",
       "    .dataframe tbody tr th {\n",
       "        vertical-align: top;\n",
       "    }\n",
       "\n",
       "    .dataframe thead th {\n",
       "        text-align: right;\n",
       "    }\n",
       "</style>\n",
       "<table border=\"1\" class=\"dataframe\">\n",
       "  <thead>\n",
       "    <tr style=\"text-align: right;\">\n",
       "      <th></th>\n",
       "      <th>p10</th>\n",
       "      <th>p50</th>\n",
       "      <th>p90</th>\n",
       "    </tr>\n",
       "    <tr>\n",
       "      <th>timestamp</th>\n",
       "      <th></th>\n",
       "      <th></th>\n",
       "      <th></th>\n",
       "    </tr>\n",
       "  </thead>\n",
       "  <tbody>\n",
       "    <tr>\n",
       "      <th>2021-03-18</th>\n",
       "      <td>397.253693</td>\n",
       "      <td>403.148529</td>\n",
       "      <td>408.116791</td>\n",
       "    </tr>\n",
       "    <tr>\n",
       "      <th>2021-03-19</th>\n",
       "      <td>399.118896</td>\n",
       "      <td>403.985626</td>\n",
       "      <td>409.047760</td>\n",
       "    </tr>\n",
       "    <tr>\n",
       "      <th>2021-03-20</th>\n",
       "      <td>400.583527</td>\n",
       "      <td>405.017822</td>\n",
       "      <td>410.474976</td>\n",
       "    </tr>\n",
       "    <tr>\n",
       "      <th>2021-03-21</th>\n",
       "      <td>400.860565</td>\n",
       "      <td>405.578522</td>\n",
       "      <td>411.576813</td>\n",
       "    </tr>\n",
       "    <tr>\n",
       "      <th>2021-03-22</th>\n",
       "      <td>401.355438</td>\n",
       "      <td>407.147705</td>\n",
       "      <td>412.773804</td>\n",
       "    </tr>\n",
       "    <tr>\n",
       "      <th>2021-03-23</th>\n",
       "      <td>403.538177</td>\n",
       "      <td>408.712585</td>\n",
       "      <td>415.198639</td>\n",
       "    </tr>\n",
       "    <tr>\n",
       "      <th>2021-03-24</th>\n",
       "      <td>404.813171</td>\n",
       "      <td>410.645020</td>\n",
       "      <td>416.997345</td>\n",
       "    </tr>\n",
       "    <tr>\n",
       "      <th>2021-03-25</th>\n",
       "      <td>406.384949</td>\n",
       "      <td>411.265686</td>\n",
       "      <td>416.865295</td>\n",
       "    </tr>\n",
       "    <tr>\n",
       "      <th>2021-03-26</th>\n",
       "      <td>405.325806</td>\n",
       "      <td>411.524109</td>\n",
       "      <td>417.415527</td>\n",
       "    </tr>\n",
       "    <tr>\n",
       "      <th>2021-03-27</th>\n",
       "      <td>405.755402</td>\n",
       "      <td>410.492004</td>\n",
       "      <td>417.065613</td>\n",
       "    </tr>\n",
       "    <tr>\n",
       "      <th>2021-03-28</th>\n",
       "      <td>404.472534</td>\n",
       "      <td>410.684204</td>\n",
       "      <td>416.857605</td>\n",
       "    </tr>\n",
       "    <tr>\n",
       "      <th>2021-03-29</th>\n",
       "      <td>404.558899</td>\n",
       "      <td>411.089813</td>\n",
       "      <td>418.289032</td>\n",
       "    </tr>\n",
       "    <tr>\n",
       "      <th>2021-03-30</th>\n",
       "      <td>402.929199</td>\n",
       "      <td>410.167480</td>\n",
       "      <td>418.804382</td>\n",
       "    </tr>\n",
       "    <tr>\n",
       "      <th>2021-03-31</th>\n",
       "      <td>405.506775</td>\n",
       "      <td>411.730011</td>\n",
       "      <td>420.297791</td>\n",
       "    </tr>\n",
       "    <tr>\n",
       "      <th>2021-04-01</th>\n",
       "      <td>412.696747</td>\n",
       "      <td>418.999481</td>\n",
       "      <td>426.696442</td>\n",
       "    </tr>\n",
       "    <tr>\n",
       "      <th>2021-04-02</th>\n",
       "      <td>415.696320</td>\n",
       "      <td>422.411987</td>\n",
       "      <td>429.804230</td>\n",
       "    </tr>\n",
       "    <tr>\n",
       "      <th>2021-04-03</th>\n",
       "      <td>415.849915</td>\n",
       "      <td>424.787354</td>\n",
       "      <td>431.729156</td>\n",
       "    </tr>\n",
       "    <tr>\n",
       "      <th>2021-04-04</th>\n",
       "      <td>420.580170</td>\n",
       "      <td>427.020813</td>\n",
       "      <td>433.822357</td>\n",
       "    </tr>\n",
       "    <tr>\n",
       "      <th>2021-04-05</th>\n",
       "      <td>421.230835</td>\n",
       "      <td>427.332916</td>\n",
       "      <td>435.835327</td>\n",
       "    </tr>\n",
       "    <tr>\n",
       "      <th>2021-04-06</th>\n",
       "      <td>422.958588</td>\n",
       "      <td>430.164795</td>\n",
       "      <td>437.694244</td>\n",
       "    </tr>\n",
       "    <tr>\n",
       "      <th>2021-04-07</th>\n",
       "      <td>424.300385</td>\n",
       "      <td>432.143005</td>\n",
       "      <td>439.162537</td>\n",
       "    </tr>\n",
       "    <tr>\n",
       "      <th>2021-04-08</th>\n",
       "      <td>427.362427</td>\n",
       "      <td>433.370605</td>\n",
       "      <td>440.643768</td>\n",
       "    </tr>\n",
       "    <tr>\n",
       "      <th>2021-04-09</th>\n",
       "      <td>426.551605</td>\n",
       "      <td>433.500153</td>\n",
       "      <td>441.961914</td>\n",
       "    </tr>\n",
       "    <tr>\n",
       "      <th>2021-04-10</th>\n",
       "      <td>427.122742</td>\n",
       "      <td>433.408722</td>\n",
       "      <td>441.443787</td>\n",
       "    </tr>\n",
       "    <tr>\n",
       "      <th>2021-04-11</th>\n",
       "      <td>427.017487</td>\n",
       "      <td>433.044189</td>\n",
       "      <td>440.292694</td>\n",
       "    </tr>\n",
       "    <tr>\n",
       "      <th>2021-04-12</th>\n",
       "      <td>426.718445</td>\n",
       "      <td>434.147644</td>\n",
       "      <td>441.976074</td>\n",
       "    </tr>\n",
       "    <tr>\n",
       "      <th>2021-04-13</th>\n",
       "      <td>427.380341</td>\n",
       "      <td>434.611145</td>\n",
       "      <td>443.204041</td>\n",
       "    </tr>\n",
       "    <tr>\n",
       "      <th>2021-04-14</th>\n",
       "      <td>428.503815</td>\n",
       "      <td>435.805023</td>\n",
       "      <td>443.542480</td>\n",
       "    </tr>\n",
       "    <tr>\n",
       "      <th>2021-04-15</th>\n",
       "      <td>429.443085</td>\n",
       "      <td>437.168610</td>\n",
       "      <td>444.601440</td>\n",
       "    </tr>\n",
       "    <tr>\n",
       "      <th>2021-04-16</th>\n",
       "      <td>429.313080</td>\n",
       "      <td>436.187378</td>\n",
       "      <td>444.791992</td>\n",
       "    </tr>\n",
       "  </tbody>\n",
       "</table>\n",
       "</div>"
      ],
      "text/plain": [
       "                   p10         p50         p90\n",
       "timestamp                                     \n",
       "2021-03-18  397.253693  403.148529  408.116791\n",
       "2021-03-19  399.118896  403.985626  409.047760\n",
       "2021-03-20  400.583527  405.017822  410.474976\n",
       "2021-03-21  400.860565  405.578522  411.576813\n",
       "2021-03-22  401.355438  407.147705  412.773804\n",
       "2021-03-23  403.538177  408.712585  415.198639\n",
       "2021-03-24  404.813171  410.645020  416.997345\n",
       "2021-03-25  406.384949  411.265686  416.865295\n",
       "2021-03-26  405.325806  411.524109  417.415527\n",
       "2021-03-27  405.755402  410.492004  417.065613\n",
       "2021-03-28  404.472534  410.684204  416.857605\n",
       "2021-03-29  404.558899  411.089813  418.289032\n",
       "2021-03-30  402.929199  410.167480  418.804382\n",
       "2021-03-31  405.506775  411.730011  420.297791\n",
       "2021-04-01  412.696747  418.999481  426.696442\n",
       "2021-04-02  415.696320  422.411987  429.804230\n",
       "2021-04-03  415.849915  424.787354  431.729156\n",
       "2021-04-04  420.580170  427.020813  433.822357\n",
       "2021-04-05  421.230835  427.332916  435.835327\n",
       "2021-04-06  422.958588  430.164795  437.694244\n",
       "2021-04-07  424.300385  432.143005  439.162537\n",
       "2021-04-08  427.362427  433.370605  440.643768\n",
       "2021-04-09  426.551605  433.500153  441.961914\n",
       "2021-04-10  427.122742  433.408722  441.443787\n",
       "2021-04-11  427.017487  433.044189  440.292694\n",
       "2021-04-12  426.718445  434.147644  441.976074\n",
       "2021-04-13  427.380341  434.611145  443.204041\n",
       "2021-04-14  428.503815  435.805023  443.542480\n",
       "2021-04-15  429.443085  437.168610  444.601440\n",
       "2021-04-16  429.313080  436.187378  444.791992"
      ]
     },
     "execution_count": 100,
     "metadata": {},
     "output_type": "execute_result"
    }
   ],
   "source": [
    "forecast_df"
   ]
  },
  {
   "cell_type": "code",
   "execution_count": 106,
   "metadata": {
    "collapsed": false
   },
   "outputs": [
    {
     "data": {
      "text/plain": [
       "<AxesSubplot:>"
      ]
     },
     "execution_count": 106,
     "metadata": {},
     "output_type": "execute_result"
    },
    {
     "data": {
      "image/png": "[encoded data removed]",
      "text/plain": [
       "<Figure size 1440x720 with 1 Axes>"
      ]
     },
     "metadata": {},
     "output_type": "display_data"
    }
   ],
   "source": [
    "true_df = df[['Close']].copy()\n",
    "true_df.columns = ['true']\n",
    "\n",
    "full_df = true_df.join(forecast_df,how='outer')\n",
    "full_df[['true','p10','p50','p90']].plot(figsize = (20,10))"
   ]
  },
  {
   "cell_type": "code",
   "execution_count": 107,
   "metadata": {
    "collapsed": false
   },
   "outputs": [
    {
     "data": {
      "image/png": "[encoded data removed]",
      "text/plain": [
       "<Figure size 1440x720 with 1 Axes>"
      ]
     },
     "metadata": {},
     "output_type": "display_data"
    }
   ],
   "source": [
    "full_df.iloc[-100:][['true','p10','p50','p90']].plot(figsize=(20,10));"
   ]
  },
  {
   "cell_type": "code",
   "execution_count": null,
   "metadata": {
    "collapsed": true
   },
   "outputs": [],
   "source": []
  }
 ],
 "metadata": {
  "kernelspec": {
   "display_name": "Python 3",
   "language": "python",
   "name": "python3"
  },
  "language_info": {
   "codemirror_mode": {
    "name": "ipython",
    "version": 3
   },
   "file_extension": ".py",
   "mimetype": "text/x-python",
   "name": "python",
   "nbconvert_exporter": "python",
   "pygments_lexer": "ipython3",
   "version": "3.6.0"
  }
 },
 "nbformat": 4,
 "nbformat_minor": 2
}
