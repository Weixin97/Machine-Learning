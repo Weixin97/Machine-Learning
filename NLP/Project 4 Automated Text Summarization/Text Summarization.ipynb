{
 "cells": [
  {
   "cell_type": "markdown",
   "metadata": {},
   "source": [
    "# Text Summarization"
   ]
  },
  {
   "cell_type": "code",
   "execution_count": null,
   "metadata": {
    "collapsed": true
   },
   "outputs": [],
   "source": [
    "# -- we can give each sentence a score, so we can do sentence tokenization\n",
    "# -- and for each particular sentence, we give some score \n",
    "# -- and we can try to find out the highest score , eg. 20/ 30% of those sentences\n",
    "# -- How to score individually?\n",
    "# ---- do word frequecy, to get info that how many times each individual word appears\n",
    "# ---- then we can give score"
   ]
  },
  {
   "cell_type": "code",
   "execution_count": 2,
   "metadata": {
    "collapsed": true
   },
   "outputs": [],
   "source": [
    "text = \"\"\"Maria Sharapova has basically no friends as tennis players on the WTA Tour. The Russian player has no problems in openly speaking about it and in a recent interview she said: 'I don't really hide any feelings too much.\n",
    "I think everyone knows this is my job here. When I'm on the courts or when I'm on the court playing, I'm a competitor and I want to beat every single person whether they're in the locker room or across the net.\n",
    "So I'm not the one to strike up a conversation about the weather and know that in the next few minutes I have to go and try to win a tennis match. I'm a pretty competitive girl. I say my hellos, but I'm not sending any players flowers as well.\n",
    "Uhm, I'm not really friendly or close to many players. I have not a lot of friends away from the courts.' When she said she is not really close to a lot of players, is that something strategic that she is doing? Is it different on the men's tour than the women's tour? 'No, not at all.\n",
    "I think just because you're in the same sport doesn't mean that you have to be friends with everyone just because you're categorized, you're a tennis player, so you're going to get along with tennis players.\n",
    "I think every person has different interests. I have friends that have completely different jobs and interests, and I've met them in very different parts of my life. I think everyone just thinks because we're tennis players we should be the greatest of friends.\n",
    "But ultimately tennis is just a very small part of what we do. There are so many other things that we're interested in, that we do.\"\"\""
   ]
  },
  {
   "cell_type": "code",
   "execution_count": 3,
   "metadata": {
    "collapsed": false
   },
   "outputs": [
    {
     "data": {
      "text/plain": [
       "1561"
      ]
     },
     "execution_count": 3,
     "metadata": {},
     "output_type": "execute_result"
    }
   ],
   "source": [
    "len(text)"
   ]
  },
  {
   "cell_type": "markdown",
   "metadata": {},
   "source": [
    "# 1) Importing the libraries and Dataset"
   ]
  },
  {
   "cell_type": "code",
   "execution_count": 4,
   "metadata": {
    "collapsed": true
   },
   "outputs": [],
   "source": [
    "import spacy\n",
    "from spacy.lang.en.stop_words import STOP_WORDS\n",
    "from string import punctuation"
   ]
  },
  {
   "cell_type": "code",
   "execution_count": 5,
   "metadata": {
    "collapsed": true
   },
   "outputs": [],
   "source": [
    "nlp = spacy.load('en_core_web_sm')"
   ]
  },
  {
   "cell_type": "code",
   "execution_count": 6,
   "metadata": {
    "collapsed": true
   },
   "outputs": [],
   "source": [
    "doc = nlp(text)"
   ]
  },
  {
   "cell_type": "code",
   "execution_count": 7,
   "metadata": {
    "collapsed": false
   },
   "outputs": [
    {
     "data": {
      "text/plain": [
       "['Maria',\n",
       " 'Sharapova',\n",
       " 'has',\n",
       " 'basically',\n",
       " 'no',\n",
       " 'friends',\n",
       " 'as',\n",
       " 'tennis',\n",
       " 'players',\n",
       " 'on',\n",
       " 'the',\n",
       " 'WTA',\n",
       " 'Tour',\n",
       " '.',\n",
       " 'The',\n",
       " 'Russian',\n",
       " 'player',\n",
       " 'has',\n",
       " 'no',\n",
       " 'problems',\n",
       " 'in',\n",
       " 'openly',\n",
       " 'speaking',\n",
       " 'about',\n",
       " 'it',\n",
       " 'and',\n",
       " 'in',\n",
       " 'a',\n",
       " 'recent',\n",
       " 'interview',\n",
       " 'she',\n",
       " 'said',\n",
       " ':',\n",
       " \"'\",\n",
       " 'I',\n",
       " 'do',\n",
       " \"n't\",\n",
       " 'really',\n",
       " 'hide',\n",
       " 'any',\n",
       " 'feelings',\n",
       " 'too',\n",
       " 'much',\n",
       " '.',\n",
       " '\\n',\n",
       " 'I',\n",
       " 'think',\n",
       " 'everyone',\n",
       " 'knows',\n",
       " 'this',\n",
       " 'is',\n",
       " 'my',\n",
       " 'job',\n",
       " 'here',\n",
       " '.',\n",
       " 'When',\n",
       " 'I',\n",
       " \"'m\",\n",
       " 'on',\n",
       " 'the',\n",
       " 'courts',\n",
       " 'or',\n",
       " 'when',\n",
       " 'I',\n",
       " \"'m\",\n",
       " 'on',\n",
       " 'the',\n",
       " 'court',\n",
       " 'playing',\n",
       " ',',\n",
       " 'I',\n",
       " \"'m\",\n",
       " 'a',\n",
       " 'competitor',\n",
       " 'and',\n",
       " 'I',\n",
       " 'want',\n",
       " 'to',\n",
       " 'beat',\n",
       " 'every',\n",
       " 'single',\n",
       " 'person',\n",
       " 'whether',\n",
       " 'they',\n",
       " \"'re\",\n",
       " 'in',\n",
       " 'the',\n",
       " 'locker',\n",
       " 'room',\n",
       " 'or',\n",
       " 'across',\n",
       " 'the',\n",
       " 'net',\n",
       " '.',\n",
       " '\\n',\n",
       " 'So',\n",
       " 'I',\n",
       " \"'m\",\n",
       " 'not',\n",
       " 'the',\n",
       " 'one',\n",
       " 'to',\n",
       " 'strike',\n",
       " 'up',\n",
       " 'a',\n",
       " 'conversation',\n",
       " 'about',\n",
       " 'the',\n",
       " 'weather',\n",
       " 'and',\n",
       " 'know',\n",
       " 'that',\n",
       " 'in',\n",
       " 'the',\n",
       " 'next',\n",
       " 'few',\n",
       " 'minutes',\n",
       " 'I',\n",
       " 'have',\n",
       " 'to',\n",
       " 'go',\n",
       " 'and',\n",
       " 'try',\n",
       " 'to',\n",
       " 'win',\n",
       " 'a',\n",
       " 'tennis',\n",
       " 'match',\n",
       " '.',\n",
       " 'I',\n",
       " \"'m\",\n",
       " 'a',\n",
       " 'pretty',\n",
       " 'competitive',\n",
       " 'girl',\n",
       " '.',\n",
       " 'I',\n",
       " 'say',\n",
       " 'my',\n",
       " 'hellos',\n",
       " ',',\n",
       " 'but',\n",
       " 'I',\n",
       " \"'m\",\n",
       " 'not',\n",
       " 'sending',\n",
       " 'any',\n",
       " 'players',\n",
       " 'flowers',\n",
       " 'as',\n",
       " 'well',\n",
       " '.',\n",
       " '\\n',\n",
       " 'Uhm',\n",
       " ',',\n",
       " 'I',\n",
       " \"'m\",\n",
       " 'not',\n",
       " 'really',\n",
       " 'friendly',\n",
       " 'or',\n",
       " 'close',\n",
       " 'to',\n",
       " 'many',\n",
       " 'players',\n",
       " '.',\n",
       " 'I',\n",
       " 'have',\n",
       " 'not',\n",
       " 'a',\n",
       " 'lot',\n",
       " 'of',\n",
       " 'friends',\n",
       " 'away',\n",
       " 'from',\n",
       " 'the',\n",
       " 'courts',\n",
       " '.',\n",
       " \"'\",\n",
       " 'When',\n",
       " 'she',\n",
       " 'said',\n",
       " 'she',\n",
       " 'is',\n",
       " 'not',\n",
       " 'really',\n",
       " 'close',\n",
       " 'to',\n",
       " 'a',\n",
       " 'lot',\n",
       " 'of',\n",
       " 'players',\n",
       " ',',\n",
       " 'is',\n",
       " 'that',\n",
       " 'something',\n",
       " 'strategic',\n",
       " 'that',\n",
       " 'she',\n",
       " 'is',\n",
       " 'doing',\n",
       " '?',\n",
       " 'Is',\n",
       " 'it',\n",
       " 'different',\n",
       " 'on',\n",
       " 'the',\n",
       " 'men',\n",
       " \"'s\",\n",
       " 'tour',\n",
       " 'than',\n",
       " 'the',\n",
       " 'women',\n",
       " \"'s\",\n",
       " 'tour',\n",
       " '?',\n",
       " \"'\",\n",
       " 'No',\n",
       " ',',\n",
       " 'not',\n",
       " 'at',\n",
       " 'all',\n",
       " '.',\n",
       " '\\n',\n",
       " 'I',\n",
       " 'think',\n",
       " 'just',\n",
       " 'because',\n",
       " 'you',\n",
       " \"'re\",\n",
       " 'in',\n",
       " 'the',\n",
       " 'same',\n",
       " 'sport',\n",
       " 'does',\n",
       " \"n't\",\n",
       " 'mean',\n",
       " 'that',\n",
       " 'you',\n",
       " 'have',\n",
       " 'to',\n",
       " 'be',\n",
       " 'friends',\n",
       " 'with',\n",
       " 'everyone',\n",
       " 'just',\n",
       " 'because',\n",
       " 'you',\n",
       " \"'re\",\n",
       " 'categorized',\n",
       " ',',\n",
       " 'you',\n",
       " \"'re\",\n",
       " 'a',\n",
       " 'tennis',\n",
       " 'player',\n",
       " ',',\n",
       " 'so',\n",
       " 'you',\n",
       " \"'re\",\n",
       " 'going',\n",
       " 'to',\n",
       " 'get',\n",
       " 'along',\n",
       " 'with',\n",
       " 'tennis',\n",
       " 'players',\n",
       " '.',\n",
       " '\\n',\n",
       " 'I',\n",
       " 'think',\n",
       " 'every',\n",
       " 'person',\n",
       " 'has',\n",
       " 'different',\n",
       " 'interests',\n",
       " '.',\n",
       " 'I',\n",
       " 'have',\n",
       " 'friends',\n",
       " 'that',\n",
       " 'have',\n",
       " 'completely',\n",
       " 'different',\n",
       " 'jobs',\n",
       " 'and',\n",
       " 'interests',\n",
       " ',',\n",
       " 'and',\n",
       " 'I',\n",
       " \"'ve\",\n",
       " 'met',\n",
       " 'them',\n",
       " 'in',\n",
       " 'very',\n",
       " 'different',\n",
       " 'parts',\n",
       " 'of',\n",
       " 'my',\n",
       " 'life',\n",
       " '.',\n",
       " 'I',\n",
       " 'think',\n",
       " 'everyone',\n",
       " 'just',\n",
       " 'thinks',\n",
       " 'because',\n",
       " 'we',\n",
       " \"'re\",\n",
       " 'tennis',\n",
       " 'players',\n",
       " 'we',\n",
       " 'should',\n",
       " 'be',\n",
       " 'the',\n",
       " 'greatest',\n",
       " 'of',\n",
       " 'friends',\n",
       " '.',\n",
       " '\\n',\n",
       " 'But',\n",
       " 'ultimately',\n",
       " 'tennis',\n",
       " 'is',\n",
       " 'just',\n",
       " 'a',\n",
       " 'very',\n",
       " 'small',\n",
       " 'part',\n",
       " 'of',\n",
       " 'what',\n",
       " 'we',\n",
       " 'do',\n",
       " '.',\n",
       " 'There',\n",
       " 'are',\n",
       " 'so',\n",
       " 'many',\n",
       " 'other',\n",
       " 'things',\n",
       " 'that',\n",
       " 'we',\n",
       " \"'re\",\n",
       " 'interested',\n",
       " 'in',\n",
       " ',',\n",
       " 'that',\n",
       " 'we',\n",
       " 'do',\n",
       " '.']"
      ]
     },
     "execution_count": 7,
     "metadata": {},
     "output_type": "execute_result"
    }
   ],
   "source": [
    "#tokenization\n",
    "\n",
    "tokens = [token.text for token in doc]\n",
    "tokens"
   ]
  },
  {
   "cell_type": "code",
   "execution_count": 9,
   "metadata": {
    "collapsed": false
   },
   "outputs": [
    {
     "data": {
      "text/plain": [
       "'!\"#$%&\\'()*+,-./:;<=>?@[\\\\]^_`{|}~\\n'"
      ]
     },
     "execution_count": 9,
     "metadata": {},
     "output_type": "execute_result"
    }
   ],
   "source": [
    "punctuation = punctuation+'\\n'\n",
    "punctuation"
   ]
  },
  {
   "cell_type": "code",
   "execution_count": null,
   "metadata": {
    "collapsed": true
   },
   "outputs": [],
   "source": []
  },
  {
   "cell_type": "markdown",
   "metadata": {},
   "source": [
    "# 2) Text Cleaning"
   ]
  },
  {
   "cell_type": "markdown",
   "metadata": {},
   "source": [
    "### Create word frequency"
   ]
  },
  {
   "cell_type": "code",
   "execution_count": 12,
   "metadata": {
    "collapsed": false
   },
   "outputs": [],
   "source": [
    "# create 1 dict object\n",
    "\n",
    "word_freq = {}\n",
    "stop_words = list(STOP_WORDS)\n",
    "for word in doc:\n",
    "    \n",
    "    # remove stop words and punctuation\n",
    "    if word.text.lower() not in stop_words:\n",
    "        if word.text.lower() not in punctuation:\n",
    "            if word.text not in word_freq.keys():\n",
    "                word_freq[word.text] = 1\n",
    "            else:\n",
    "                word_freq[word.text] +=1\n",
    "                \n",
    "                            "
   ]
  },
  {
   "cell_type": "code",
   "execution_count": 13,
   "metadata": {
    "collapsed": false
   },
   "outputs": [
    {
     "data": {
      "text/plain": [
       "{'Maria': 1,\n",
       " 'Sharapova': 1,\n",
       " 'basically': 1,\n",
       " 'friends': 5,\n",
       " 'tennis': 6,\n",
       " 'players': 6,\n",
       " 'WTA': 1,\n",
       " 'Tour': 1,\n",
       " 'Russian': 1,\n",
       " 'player': 2,\n",
       " 'problems': 1,\n",
       " 'openly': 1,\n",
       " 'speaking': 1,\n",
       " 'recent': 1,\n",
       " 'interview': 1,\n",
       " 'said': 2,\n",
       " 'hide': 1,\n",
       " 'feelings': 1,\n",
       " 'think': 4,\n",
       " 'knows': 1,\n",
       " 'job': 1,\n",
       " 'courts': 2,\n",
       " 'court': 1,\n",
       " 'playing': 1,\n",
       " 'competitor': 1,\n",
       " 'want': 1,\n",
       " 'beat': 1,\n",
       " 'single': 1,\n",
       " 'person': 2,\n",
       " 'locker': 1,\n",
       " 'room': 1,\n",
       " 'net': 1,\n",
       " 'strike': 1,\n",
       " 'conversation': 1,\n",
       " 'weather': 1,\n",
       " 'know': 1,\n",
       " 'minutes': 1,\n",
       " 'try': 1,\n",
       " 'win': 1,\n",
       " 'match': 1,\n",
       " 'pretty': 1,\n",
       " 'competitive': 1,\n",
       " 'girl': 1,\n",
       " 'hellos': 1,\n",
       " 'sending': 1,\n",
       " 'flowers': 1,\n",
       " 'Uhm': 1,\n",
       " 'friendly': 1,\n",
       " 'close': 2,\n",
       " 'lot': 2,\n",
       " 'away': 1,\n",
       " 'strategic': 1,\n",
       " 'different': 4,\n",
       " 'men': 1,\n",
       " 'tour': 2,\n",
       " 'women': 1,\n",
       " 'sport': 1,\n",
       " 'mean': 1,\n",
       " 'categorized': 1,\n",
       " 'going': 1,\n",
       " 'interests': 2,\n",
       " 'completely': 1,\n",
       " 'jobs': 1,\n",
       " 'met': 1,\n",
       " 'parts': 1,\n",
       " 'life': 1,\n",
       " 'thinks': 1,\n",
       " 'greatest': 1,\n",
       " 'ultimately': 1,\n",
       " 'small': 1,\n",
       " 'things': 1,\n",
       " 'interested': 1}"
      ]
     },
     "execution_count": 13,
     "metadata": {},
     "output_type": "execute_result"
    }
   ],
   "source": [
    "word_freq"
   ]
  },
  {
   "cell_type": "code",
   "execution_count": 15,
   "metadata": {
    "collapsed": false
   },
   "outputs": [],
   "source": [
    "max_freq = max(word_freq.values())"
   ]
  },
  {
   "cell_type": "code",
   "execution_count": 17,
   "metadata": {
    "collapsed": false
   },
   "outputs": [],
   "source": [
    "# normalize all those score with max_freq value\n",
    "\n",
    "for word in word_freq.keys():\n",
    "    word_freq[word] = word_freq[word] / max_freq"
   ]
  },
  {
   "cell_type": "code",
   "execution_count": 18,
   "metadata": {
    "collapsed": false
   },
   "outputs": [
    {
     "data": {
      "text/plain": [
       "{'Maria': 0.16666666666666666,\n",
       " 'Sharapova': 0.16666666666666666,\n",
       " 'basically': 0.16666666666666666,\n",
       " 'friends': 0.8333333333333334,\n",
       " 'tennis': 1.0,\n",
       " 'players': 1.0,\n",
       " 'WTA': 0.16666666666666666,\n",
       " 'Tour': 0.16666666666666666,\n",
       " 'Russian': 0.16666666666666666,\n",
       " 'player': 0.3333333333333333,\n",
       " 'problems': 0.16666666666666666,\n",
       " 'openly': 0.16666666666666666,\n",
       " 'speaking': 0.16666666666666666,\n",
       " 'recent': 0.16666666666666666,\n",
       " 'interview': 0.16666666666666666,\n",
       " 'said': 0.3333333333333333,\n",
       " 'hide': 0.16666666666666666,\n",
       " 'feelings': 0.16666666666666666,\n",
       " 'think': 0.6666666666666666,\n",
       " 'knows': 0.16666666666666666,\n",
       " 'job': 0.16666666666666666,\n",
       " 'courts': 0.3333333333333333,\n",
       " 'court': 0.16666666666666666,\n",
       " 'playing': 0.16666666666666666,\n",
       " 'competitor': 0.16666666666666666,\n",
       " 'want': 0.16666666666666666,\n",
       " 'beat': 0.16666666666666666,\n",
       " 'single': 0.16666666666666666,\n",
       " 'person': 0.3333333333333333,\n",
       " 'locker': 0.16666666666666666,\n",
       " 'room': 0.16666666666666666,\n",
       " 'net': 0.16666666666666666,\n",
       " 'strike': 0.16666666666666666,\n",
       " 'conversation': 0.16666666666666666,\n",
       " 'weather': 0.16666666666666666,\n",
       " 'know': 0.16666666666666666,\n",
       " 'minutes': 0.16666666666666666,\n",
       " 'try': 0.16666666666666666,\n",
       " 'win': 0.16666666666666666,\n",
       " 'match': 0.16666666666666666,\n",
       " 'pretty': 0.16666666666666666,\n",
       " 'competitive': 0.16666666666666666,\n",
       " 'girl': 0.16666666666666666,\n",
       " 'hellos': 0.16666666666666666,\n",
       " 'sending': 0.16666666666666666,\n",
       " 'flowers': 0.16666666666666666,\n",
       " 'Uhm': 0.16666666666666666,\n",
       " 'friendly': 0.16666666666666666,\n",
       " 'close': 0.3333333333333333,\n",
       " 'lot': 0.3333333333333333,\n",
       " 'away': 0.16666666666666666,\n",
       " 'strategic': 0.16666666666666666,\n",
       " 'different': 0.6666666666666666,\n",
       " 'men': 0.16666666666666666,\n",
       " 'tour': 0.3333333333333333,\n",
       " 'women': 0.16666666666666666,\n",
       " 'sport': 0.16666666666666666,\n",
       " 'mean': 0.16666666666666666,\n",
       " 'categorized': 0.16666666666666666,\n",
       " 'going': 0.16666666666666666,\n",
       " 'interests': 0.3333333333333333,\n",
       " 'completely': 0.16666666666666666,\n",
       " 'jobs': 0.16666666666666666,\n",
       " 'met': 0.16666666666666666,\n",
       " 'parts': 0.16666666666666666,\n",
       " 'life': 0.16666666666666666,\n",
       " 'thinks': 0.16666666666666666,\n",
       " 'greatest': 0.16666666666666666,\n",
       " 'ultimately': 0.16666666666666666,\n",
       " 'small': 0.16666666666666666,\n",
       " 'things': 0.16666666666666666,\n",
       " 'interested': 0.16666666666666666}"
      ]
     },
     "execution_count": 18,
     "metadata": {},
     "output_type": "execute_result"
    }
   ],
   "source": [
    "word_freq"
   ]
  },
  {
   "cell_type": "code",
   "execution_count": null,
   "metadata": {
    "collapsed": true
   },
   "outputs": [],
   "source": []
  },
  {
   "cell_type": "markdown",
   "metadata": {},
   "source": [
    "# 3) Sentence tokenization"
   ]
  },
  {
   "cell_type": "code",
   "execution_count": 19,
   "metadata": {
    "collapsed": false
   },
   "outputs": [
    {
     "data": {
      "text/plain": [
       "[Maria Sharapova has basically no friends as tennis players on the WTA Tour.,\n",
       " The Russian player has no problems in openly speaking about it and in a recent interview she said: 'I don't really hide any feelings too much.,\n",
       " ,\n",
       " I think everyone knows this is my job here.,\n",
       " When I'm on the courts or when I'm on the court playing, I'm a competitor and I want to beat every single person whether they're in the locker room or across the net.,\n",
       " ,\n",
       " So I'm not the one to strike up a conversation about the weather and know that in the next few minutes I have to go and try to win a tennis match.,\n",
       " I'm a pretty competitive girl.,\n",
       " I say my hellos, but I'm not sending any players flowers as well.,\n",
       " ,\n",
       " Uhm, I'm not really friendly or close to many players.,\n",
       " I have not a lot of friends away from the courts.',\n",
       " When she said she is not really close to a lot of players, is that something strategic that she is doing?,\n",
       " Is it different on the men's tour than the women's tour? ',\n",
       " No, not at all.,\n",
       " ,\n",
       " I think just because you're in the same sport doesn't mean that you have to be friends with everyone just because you're categorized, you're a tennis player, so you're going to get along with tennis players.,\n",
       " ,\n",
       " I think every person has different interests.,\n",
       " I have friends that have completely different jobs and interests, and I've met them in very different parts of my life.,\n",
       " I think everyone just thinks because we're tennis players we should be the greatest of friends.,\n",
       " But ultimately tennis is just a very small part of what we do.,\n",
       " There are so many other things that we're interested in, that we do.]"
      ]
     },
     "execution_count": 19,
     "metadata": {},
     "output_type": "execute_result"
    }
   ],
   "source": [
    "sent_tokens = [sent for sent in doc.sents]\n",
    "sent_tokens"
   ]
  },
  {
   "cell_type": "code",
   "execution_count": 21,
   "metadata": {
    "collapsed": false
   },
   "outputs": [],
   "source": [
    "# give sentence score\n",
    "sent_score = {}\n",
    "\n",
    "for sent in sent_tokens:\n",
    "    for word in sent:\n",
    "        if word.text.lower() in word_freq.keys():\n",
    "            if sent not in sent_score.keys():\n",
    "                sent_score[sent] = word_freq[word.text.lower()]\n",
    "            else:\n",
    "                sent_score[sent] +=word_freq[word.text.lower()]"
   ]
  },
  {
   "cell_type": "code",
   "execution_count": 22,
   "metadata": {
    "collapsed": false
   },
   "outputs": [
    {
     "data": {
      "text/plain": [
       "{Maria Sharapova has basically no friends as tennis players on the WTA Tour.: 3.3333333333333335,\n",
       " The Russian player has no problems in openly speaking about it and in a recent interview she said: 'I don't really hide any feelings too much.: 1.8333333333333333,\n",
       " I think everyone knows this is my job here.: 0.9999999999999999,\n",
       " When I'm on the courts or when I'm on the court playing, I'm a competitor and I want to beat every single person whether they're in the locker room or across the net.: 2.1666666666666665,\n",
       " So I'm not the one to strike up a conversation about the weather and know that in the next few minutes I have to go and try to win a tennis match.: 2.333333333333333,\n",
       " I'm a pretty competitive girl.: 0.5,\n",
       " I say my hellos, but I'm not sending any players flowers as well.: 1.5,\n",
       " Uhm, I'm not really friendly or close to many players.: 1.5,\n",
       " I have not a lot of friends away from the courts.': 1.6666666666666667,\n",
       " When she said she is not really close to a lot of players, is that something strategic that she is doing?: 2.1666666666666665,\n",
       " Is it different on the men's tour than the women's tour? ': 1.6666666666666665,\n",
       " I think just because you're in the same sport doesn't mean that you have to be friends with everyone just because you're categorized, you're a tennis player, so you're going to get along with tennis players.: 5.5,\n",
       " I think every person has different interests.: 1.9999999999999998,\n",
       " I have friends that have completely different jobs and interests, and I've met them in very different parts of my life.: 3.3333333333333326,\n",
       " I think everyone just thinks because we're tennis players we should be the greatest of friends.: 3.833333333333333,\n",
       " But ultimately tennis is just a very small part of what we do.: 1.3333333333333335,\n",
       " There are so many other things that we're interested in, that we do.: 0.3333333333333333}"
      ]
     },
     "execution_count": 22,
     "metadata": {},
     "output_type": "execute_result"
    }
   ],
   "source": [
    "sent_score"
   ]
  },
  {
   "cell_type": "code",
   "execution_count": null,
   "metadata": {
    "collapsed": true
   },
   "outputs": [],
   "source": []
  },
  {
   "cell_type": "markdown",
   "metadata": {},
   "source": [
    "# 4) Select 30% sentences with maximum score"
   ]
  },
  {
   "cell_type": "code",
   "execution_count": 24,
   "metadata": {
    "collapsed": false
   },
   "outputs": [],
   "source": [
    "from heapq import nlargest"
   ]
  },
  {
   "cell_type": "code",
   "execution_count": 27,
   "metadata": {
    "collapsed": false
   },
   "outputs": [
    {
     "data": {
      "text/plain": [
       "5.1"
      ]
     },
     "execution_count": 27,
     "metadata": {},
     "output_type": "execute_result"
    }
   ],
   "source": [
    "len(sent_score) *0.3"
   ]
  },
  {
   "cell_type": "code",
   "execution_count": 28,
   "metadata": {
    "collapsed": true
   },
   "outputs": [],
   "source": [
    "# max 6 sentences"
   ]
  },
  {
   "cell_type": "code",
   "execution_count": null,
   "metadata": {
    "collapsed": true
   },
   "outputs": [],
   "source": []
  },
  {
   "cell_type": "markdown",
   "metadata": {},
   "source": [
    "# 5) Getting the Summary"
   ]
  },
  {
   "cell_type": "code",
   "execution_count": 34,
   "metadata": {
    "collapsed": true
   },
   "outputs": [],
   "source": [
    "summary = nlargest(n=6,iterable=sent_score,key=sent_score.get)"
   ]
  },
  {
   "cell_type": "code",
   "execution_count": 35,
   "metadata": {
    "collapsed": false
   },
   "outputs": [
    {
     "name": "stdout",
     "output_type": "stream",
     "text": [
      "[I think just because you're in the same sport doesn't mean that you have to be friends with everyone just because you're categorized, you're a tennis player, so you're going to get along with tennis players., I think everyone just thinks because we're tennis players we should be the greatest of friends.\n",
      ", Maria Sharapova has basically no friends as tennis players on the WTA Tour., I have friends that have completely different jobs and interests, and I've met them in very different parts of my life., So I'm not the one to strike up a conversation about the weather and know that in the next few minutes I have to go and try to win a tennis match., When I'm on the courts or when I'm on the court playing, I'm a competitor and I want to beat every single person whether they're in the locker room or across the net.]\n"
     ]
    }
   ],
   "source": [
    "print(summary)"
   ]
  },
  {
   "cell_type": "code",
   "execution_count": 37,
   "metadata": {
    "collapsed": false
   },
   "outputs": [],
   "source": [
    "final_summary = [word.text for word in summary]"
   ]
  },
  {
   "cell_type": "code",
   "execution_count": 38,
   "metadata": {
    "collapsed": false
   },
   "outputs": [
    {
     "data": {
      "text/plain": [
       "[\"I think just because you're in the same sport doesn't mean that you have to be friends with everyone just because you're categorized, you're a tennis player, so you're going to get along with tennis players.\",\n",
       " \"I think everyone just thinks because we're tennis players we should be the greatest of friends.\\n\",\n",
       " 'Maria Sharapova has basically no friends as tennis players on the WTA Tour.',\n",
       " \"I have friends that have completely different jobs and interests, and I've met them in very different parts of my life.\",\n",
       " \"So I'm not the one to strike up a conversation about the weather and know that in the next few minutes I have to go and try to win a tennis match.\",\n",
       " \"When I'm on the courts or when I'm on the court playing, I'm a competitor and I want to beat every single person whether they're in the locker room or across the net.\"]"
      ]
     },
     "execution_count": 38,
     "metadata": {},
     "output_type": "execute_result"
    }
   ],
   "source": [
    "final_summary"
   ]
  },
  {
   "cell_type": "code",
   "execution_count": 41,
   "metadata": {
    "collapsed": false
   },
   "outputs": [],
   "source": [
    "summary_ = \" \".join(final_summary)"
   ]
  },
  {
   "cell_type": "code",
   "execution_count": 42,
   "metadata": {
    "collapsed": false
   },
   "outputs": [
    {
     "data": {
      "text/plain": [
       "\"I think just because you're in the same sport doesn't mean that you have to be friends with everyone just because you're categorized, you're a tennis player, so you're going to get along with tennis players. I think everyone just thinks because we're tennis players we should be the greatest of friends.\\n Maria Sharapova has basically no friends as tennis players on the WTA Tour. I have friends that have completely different jobs and interests, and I've met them in very different parts of my life. So I'm not the one to strike up a conversation about the weather and know that in the next few minutes I have to go and try to win a tennis match. When I'm on the courts or when I'm on the court playing, I'm a competitor and I want to beat every single person whether they're in the locker room or across the net.\""
      ]
     },
     "execution_count": 42,
     "metadata": {},
     "output_type": "execute_result"
    }
   ],
   "source": [
    "summary_"
   ]
  },
  {
   "cell_type": "code",
   "execution_count": 43,
   "metadata": {
    "collapsed": false
   },
   "outputs": [
    {
     "data": {
      "text/plain": [
       "814"
      ]
     },
     "execution_count": 43,
     "metadata": {},
     "output_type": "execute_result"
    }
   ],
   "source": [
    "len(summary_)"
   ]
  },
  {
   "cell_type": "code",
   "execution_count": 44,
   "metadata": {
    "collapsed": false
   },
   "outputs": [
    {
     "data": {
      "text/plain": [
       "0.521460602178091"
      ]
     },
     "execution_count": 44,
     "metadata": {},
     "output_type": "execute_result"
    }
   ],
   "source": [
    "len(summary_) / len(text)"
   ]
  },
  {
   "cell_type": "code",
   "execution_count": null,
   "metadata": {
    "collapsed": true
   },
   "outputs": [],
   "source": []
  }
 ],
 "metadata": {
  "kernelspec": {
   "display_name": "python37",
   "language": "python",
   "name": "python37"
  },
  "language_info": {
   "codemirror_mode": {
    "name": "ipython",
    "version": 3
   },
   "file_extension": ".py",
   "mimetype": "text/x-python",
   "name": "python",
   "nbconvert_exporter": "python",
   "pygments_lexer": "ipython3",
   "version": "3.7.1"
  }
 },
 "nbformat": 4,
 "nbformat_minor": 2
}
