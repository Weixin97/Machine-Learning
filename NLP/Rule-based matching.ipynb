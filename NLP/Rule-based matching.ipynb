{
 "cells": [
  {
   "cell_type": "code",
   "execution_count": 1,
   "metadata": {
    "collapsed": true
   },
   "outputs": [],
   "source": [
    "#reading the data\n",
    "data = open('11-0.txt',encoding='utf-8').read()\n",
    "\n",
    "#if you get an error try the following\n",
    "#data = open('11-0.txt',encoding = 'cp850').read()\n",
    "\n",
    "import spacy\n",
    "\n",
    "# Import the Matcher\n",
    "from spacy.matcher import Matcher\n",
    "\n",
    "nlp = spacy.load(\"en_core_web_sm\")\n",
    "doc = nlp(data)"
   ]
  },
  {
   "cell_type": "code",
   "execution_count": 4,
   "metadata": {
    "collapsed": false
   },
   "outputs": [
    {
     "name": "stdout",
     "output_type": "stream",
     "text": [
      "Matches: ['Alice think', 'Alice started', 'Alice had', 'Alice had', 'Alice began', 'Alice opened', 'Alice ventured', 'Alice felt', 'Alice took', 'Alice thought', 'Alice had', 'Alice went', 'Alice went', 'Alice thought', 'Alice kept', 'Alice had', 'Alice thought', 'Alice called', 'Alice replied', 'Alice began', 'Alice guessed', 'Alice said', 'Alice went', 'Alice knew', 'Alice heard', 'Alice thought', 'Alice heard', 'Alice noticed', 'Alice dodged', 'Alice looked', 'Alice looked', 'Alice replied', 'Alice replied', 'Alice felt', 'Alice turned', 'Alice thought', 'Alice replied', 'Alice folded', 'Alice said', 'Alice waited', 'Alice crouched', 'Alice noticed', 'Alice laughed', 'Alice went', 'Alice thought', 'Alice said', 'Alice said', 'Alice glanced', 'Alice caught', 'Alice looked', 'Alice did', 'Alice added', 'Alice felt', 'Alice remarked', 'Alice waited', 'Alice coming', 'Alice looked', 'Alice said', 'Alice thought', 'Alice considered', 'Alice replied', 'Alice felt', 'Alice replied', 'Alice sighed', 'Alice asked', 'Alice ventured', 'Alice tried', 'Alice replied', 'Alice said', 'Alice was', 'Alice said', 'Alice thought', 'Alice looked', 'Alice recognised', 'Alice joined', 'Alice gave', 'Alice thought', 'Alice found', 'Alice began', 'Alice waited', 'Alice put', 'Alice began', 'Alice thought', 'Alice appeared', 'Alice ventured', 'Alice whispered', 'Alice thought', 'Alice remarked', 'Alice said', 'Alice said', 'Alice looked', 'Alice was', 'Alice heard', 'Alice thought', 'Alice asked', 'Alice ventured', 'Alice went', 'Alice began', 'Alice replied', 'Alice looked', 'Alice asked', 'Alice began', 'Alice said', 'Alice said', 'Alice was', 'Alice panted', 'Alice whispered', 'Alice began', 'Alice felt', 'Alice guessed', 'Alice watched', 'Alice looked', 'Alice got']\n"
     ]
    }
   ],
   "source": [
    "#initialize matcher\n",
    "matcher = Matcher(nlp.vocab)\n",
    "\n",
    "# Create a pattern matching two tokens: \"Alice\" and a Verb\n",
    "#TEXT is for the exact match and VERB for a verb\n",
    "pattern = [{\"TEXT\": \"Alice\"}, {\"POS\": \"VERB\"}]\n",
    "\n",
    "\n",
    "# Add the pattern to the matcher\n",
    "\n",
    "#the first variable is a unique id for the pattern (alice).\n",
    "#The second is an optional callback and the third one is our pattern.\n",
    "matcher.add(\"alice\", [pattern])\n",
    "\n",
    "# Use the matcher on the doc\n",
    "matches = matcher(doc)\n",
    "print(\"Matches:\", [doc[start:end].text for match_id, start, end in matches])"
   ]
  },
  {
   "cell_type": "code",
   "execution_count": 6,
   "metadata": {
    "collapsed": false
   },
   "outputs": [
    {
     "name": "stdout",
     "output_type": "stream",
     "text": [
      "Matches: {'own mind', 'long passage', 'little girl', 'right word', 'dry leaves', 'golden key', 'fancy _', 'legged table', 'many miles', 'low curtain', 'pink eyes', 'dreamy sort', 'first thought', 'good opportunity', 'right distance', 'several things', 'hot day', 'large rabbit', 'grand words', 'low hall'}\n"
     ]
    }
   ],
   "source": [
    "matcher = Matcher(nlp.vocab)\n",
    "\n",
    "pattern = [{\"POS\": \"ADJ\"}, {\"POS\": \"NOUN\"}]\n",
    "\n",
    "matcher.add(\"id1\", [pattern])\n",
    "matches = matcher(doc)\n",
    "\n",
    "# We will show you the first 20 matches\n",
    "print(\"Matches:\", set([doc[start:end].text for match_id, start, end in matches][:20]))"
   ]
  },
  {
   "cell_type": "code",
   "execution_count": 7,
   "metadata": {
    "collapsed": false
   },
   "outputs": [
    {
     "name": "stdout",
     "output_type": "stream",
     "text": [
      "Matches: {'Alice (', 'Alice,)', 'Alice;', 'Alice!”', 'Alice: “', 'Alice,) “', 'Alice, (', 'Alice:', 'Alice,', 'Alice, “', 'Alice.', 'Alice; “', 'Alice. “', 'Alice', 'Alice: “—', 'Alice!'}\n"
     ]
    }
   ],
   "source": [
    "matcher = Matcher(nlp.vocab)\n",
    "pattern = [{\"TEXT\": \"Alice\"}, {\"IS_PUNCT\": True,\"OP\":\"*\"}]\n",
    "matcher.add(\"id1\", [pattern])\n",
    "matches = matcher(doc)\n",
    "print(\"Matches:\", set([doc[start:end].text for match_id, start, end in matches]))"
   ]
  },
  {
   "cell_type": "code",
   "execution_count": 8,
   "metadata": {
    "collapsed": false
   },
   "outputs": [
    {
     "name": "stdout",
     "output_type": "stream",
     "text": [
      "Matches: {'and finding', 'and see', 'all locked', 'about stopping', 'and was', 'and saying', 'and round', 'and found', 'all made', 'and looked', 'and burning', 'and make', 'all think', 'and noticed', 'away went', 'all seemed', 'and wander', 'and went', 'all round'}\n"
     ]
    }
   ],
   "source": [
    "matcher = Matcher(nlp.vocab)\n",
    "pattern = [{\"TEXT\": {\"REGEX\": \"^a\"}},{\"POS\": {\"REGEX\": \"^V\"}}]\n",
    "matcher.add(\"country\", [pattern])\n",
    "matches = matcher(doc)\n",
    "print(\"Matches:\", set([doc[start:end].text for match_id, start, end in matches][:20]))"
   ]
  },
  {
   "cell_type": "code",
   "execution_count": null,
   "metadata": {
    "collapsed": true
   },
   "outputs": [],
   "source": []
  }
 ],
 "metadata": {
  "kernelspec": {
   "display_name": "python37",
   "language": "python",
   "name": "python37"
  },
  "language_info": {
   "codemirror_mode": {
    "name": "ipython",
    "version": 3
   },
   "file_extension": ".py",
   "mimetype": "text/x-python",
   "name": "python",
   "nbconvert_exporter": "python",
   "pygments_lexer": "ipython3",
   "version": "3.7.1"
  }
 },
 "nbformat": 4,
 "nbformat_minor": 2
}
