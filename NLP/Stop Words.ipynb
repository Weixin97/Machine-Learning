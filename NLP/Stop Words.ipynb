{
 "cells": [
  {
   "cell_type": "code",
   "execution_count": 1,
   "metadata": {
    "collapsed": true
   },
   "outputs": [],
   "source": [
    "# stop words mean words that dont have meaning"
   ]
  },
  {
   "cell_type": "code",
   "execution_count": 2,
   "metadata": {
    "collapsed": true
   },
   "outputs": [],
   "source": [
    "import spacy\n",
    "nlp = spacy.load('en_core_web_sm')"
   ]
  },
  {
   "cell_type": "code",
   "execution_count": 3,
   "metadata": {
    "collapsed": false
   },
   "outputs": [
    {
     "name": "stdout",
     "output_type": "stream",
     "text": [
      "{'fifteen', 'side', 'latter', 'much', 'keep', 'used', 'among', 'nothing', 'whither', 'whom', 'get', 'has', 'unless', 'am', 'though', 'together', \"'d\", 'meanwhile', 'within', 'n’t', '‘re', 'serious', 'upon', 'top', 'done', 'namely', 'otherwise', 'sixty', 'why', 'each', 'next', 'me', 'cannot', 'was', 'those', 'does', 'one', 'there', 'anyhow', 'that', 'along', 'by', 'due', 'thus', 'indeed', 'against', 'and', 'yours', 'across', 'everything', 'these', 'hers', 'nine', 'make', 'be', 'whenever', 'nowhere', 'which', 'myself', 'for', 'until', 'ever', 'thru', '‘ll', 'something', 'whereafter', 'then', 'anywhere', 'him', 'over', 'so', 'before', 'at', 'about', 'her', '‘ve', '’ll', 'although', 'in', 'two', 'four', 'towards', 'noone', 'six', 'no', 'even', 'wherever', 'not', 'take', 'using', 'the', 'will', 'after', 'might', 'always', 'his', 'but', 'n‘t', 'ours', 'because', 'as', 'also', 'else', 'what', 'i', 'any', 'per', 'move', \"'s\", 'herself', 'still', 'are', 'their', 'it', 'my', 'further', 'please', 'back', 'off', 'empty', 'nobody', 'whereby', 'where', 'down', 'onto', 'very', 'least', 'themselves', 'thence', 'mine', '’d', 'anything', 'none', 'hereby', 'they', 'more', 'between', 'thereafter', 'beside', '‘s', 'seems', 'above', 'becomes', 'whereupon', 'our', 'you', 'itself', 'must', 'on', 'than', 'again', 'since', 'all', 'had', 'never', 'almost', 'amount', 'throughout', 'neither', 'say', 'your', 'anyone', 'have', 'hereupon', '’m', 'however', 'an', 'another', 'ca', 'other', 'everywhere', 'few', 'alone', 'were', 'seem', 'being', 'enough', 'via', 'she', 'most', 'from', 'front', 'same', 'yourself', 'could', 'yourselves', 'with', \"'re\", 'eleven', 'name', 'is', 'whoever', 'put', 'either', 'whatever', 'every', 'regarding', 'through', 'out', '’re', 'thereby', 'three', 'he', 'elsewhere', 'do', 'thereupon', 'go', 'really', 'beyond', 'toward', '‘m', 'become', 'often', 'who', 'only', 'how', 'full', 'forty', 'last', 'everyone', 'when', 'twenty', 'bottom', 'us', \"n't\", 'somewhere', 'just', 'into', 'therein', 'would', 'behind', 'already', 'this', '’ve', 'himself', 'may', 'here', 're', 'many', 'up', 'doing', 'once', \"'ve\", 'quite', 'did', 'seemed', 'beforehand', 'five', \"'m\", 'amongst', 'own', 'hence', 'without', 'them', 'became', 'made', 'first', 'anyway', 'mostly', 'too', 'give', 'or', 'its', 'show', 'becoming', 'whole', 'well', 'besides', 'while', 'hereafter', 'whence', 'nor', 'a', 'latterly', 'whether', 'therefore', 'whose', 'fifty', 'somehow', 'of', 'except', 'moreover', '‘d', \"'ll\", 'someone', 'yet', 'nevertheless', 'third', 'around', 'perhaps', 'herein', 'such', 'eight', 'various', 'see', 'call', '’s', 'hundred', 'others', 'seeming', 'below', 'under', 'afterwards', 'we', 'several', 'ten', 'wherein', 'twelve', 'should', 'sometimes', 'sometime', 'part', 'former', 'some', 'to', 'if', 'rather', 'been', 'can', 'whereas', 'now', 'less', 'both', 'formerly', 'ourselves', 'during'}\n"
     ]
    }
   ],
   "source": [
    "print(nlp.Defaults.stop_words)"
   ]
  },
  {
   "cell_type": "code",
   "execution_count": 4,
   "metadata": {
    "collapsed": false
   },
   "outputs": [
    {
     "name": "stdout",
     "output_type": "stream",
     "text": [
      "326\n"
     ]
    }
   ],
   "source": [
    "print(len(nlp.Defaults.stop_words))"
   ]
  },
  {
   "cell_type": "code",
   "execution_count": 6,
   "metadata": {
    "collapsed": false
   },
   "outputs": [
    {
     "data": {
      "text/plain": [
       "True"
      ]
     },
     "execution_count": 6,
     "metadata": {},
     "output_type": "execute_result"
    }
   ],
   "source": [
    "#check if the word is stop words\n",
    "nlp.vocab['always'].is_stop"
   ]
  },
  {
   "cell_type": "code",
   "execution_count": 7,
   "metadata": {
    "collapsed": false
   },
   "outputs": [
    {
     "data": {
      "text/plain": [
       "False"
      ]
     },
     "execution_count": 7,
     "metadata": {},
     "output_type": "execute_result"
    }
   ],
   "source": [
    "nlp.vocab['finance'].is_stop"
   ]
  },
  {
   "cell_type": "code",
   "execution_count": 8,
   "metadata": {
    "collapsed": false
   },
   "outputs": [
    {
     "data": {
      "text/plain": [
       "False"
      ]
     },
     "execution_count": 8,
     "metadata": {},
     "output_type": "execute_result"
    }
   ],
   "source": [
    "nlp.vocab['asdf'].is_stop"
   ]
  },
  {
   "cell_type": "markdown",
   "metadata": {},
   "source": [
    "## #how to add more stop word to the default stopwords set"
   ]
  },
  {
   "cell_type": "code",
   "execution_count": 9,
   "metadata": {
    "collapsed": true
   },
   "outputs": [],
   "source": [
    "\n",
    "nlp.Defaults.stop_words.add('asdf')"
   ]
  },
  {
   "cell_type": "code",
   "execution_count": 10,
   "metadata": {
    "collapsed": true
   },
   "outputs": [],
   "source": [
    "nlp.vocab['asdf'].is_stop = True"
   ]
  },
  {
   "cell_type": "code",
   "execution_count": 11,
   "metadata": {
    "collapsed": false
   },
   "outputs": [
    {
     "data": {
      "text/plain": [
       "True"
      ]
     },
     "execution_count": 11,
     "metadata": {},
     "output_type": "execute_result"
    }
   ],
   "source": [
    "#check if works\n",
    "nlp.vocab['asdf'].is_stop"
   ]
  },
  {
   "cell_type": "code",
   "execution_count": 12,
   "metadata": {
    "collapsed": false
   },
   "outputs": [
    {
     "data": {
      "text/plain": [
       "327"
      ]
     },
     "execution_count": 12,
     "metadata": {},
     "output_type": "execute_result"
    }
   ],
   "source": [
    "len(nlp.Defaults.stop_words)"
   ]
  },
  {
   "cell_type": "code",
   "execution_count": null,
   "metadata": {
    "collapsed": true
   },
   "outputs": [],
   "source": []
  },
  {
   "cell_type": "markdown",
   "metadata": {},
   "source": [
    "# remove a word that have been included in stopwords set"
   ]
  },
  {
   "cell_type": "code",
   "execution_count": 13,
   "metadata": {
    "collapsed": false
   },
   "outputs": [
    {
     "data": {
      "text/plain": [
       "True"
      ]
     },
     "execution_count": 13,
     "metadata": {},
     "output_type": "execute_result"
    }
   ],
   "source": [
    "nlp.vocab['no'].is_stop"
   ]
  },
  {
   "cell_type": "code",
   "execution_count": 14,
   "metadata": {
    "collapsed": true
   },
   "outputs": [],
   "source": [
    "nlp.vocab['no'].is_stop = False"
   ]
  },
  {
   "cell_type": "code",
   "execution_count": 15,
   "metadata": {
    "collapsed": false
   },
   "outputs": [
    {
     "name": "stdout",
     "output_type": "stream",
     "text": [
      "{'fifteen', 'side', 'latter', 'much', 'keep', 'used', 'among', 'nothing', 'whither', 'whom', 'get', 'has', 'unless', 'am', 'though', 'together', \"'d\", 'meanwhile', 'within', 'n’t', '‘re', 'serious', 'upon', 'top', 'done', 'namely', 'otherwise', 'sixty', 'why', 'each', 'next', 'me', 'cannot', 'was', 'those', 'does', 'one', 'there', 'anyhow', 'that', 'along', 'by', 'due', 'thus', 'indeed', 'against', 'and', 'yours', 'across', 'everything', 'these', 'hers', 'nine', 'make', 'be', 'whenever', 'nowhere', 'which', 'myself', 'for', 'until', 'ever', 'thru', '‘ll', 'something', 'whereafter', 'then', 'anywhere', 'him', 'over', 'so', 'before', 'at', 'about', 'her', '‘ve', '’ll', 'although', 'in', 'two', 'four', 'towards', 'noone', 'six', 'no', 'even', 'wherever', 'not', 'take', 'using', 'the', 'will', 'after', 'might', 'always', 'his', 'but', 'n‘t', 'ours', 'because', 'as', 'also', 'else', 'what', 'i', 'any', 'per', 'move', \"'s\", 'herself', 'still', 'are', 'their', 'it', 'my', 'further', 'please', 'back', 'off', 'empty', 'nobody', 'whereby', 'where', 'down', 'onto', 'very', 'least', 'themselves', 'thence', 'mine', '’d', 'anything', 'none', 'hereby', 'they', 'more', 'between', 'thereafter', 'beside', '‘s', 'seems', 'above', 'becomes', 'whereupon', 'our', 'you', 'itself', 'must', 'on', 'than', 'again', 'since', 'all', 'had', 'never', 'almost', 'amount', 'throughout', 'neither', 'say', 'your', 'anyone', 'have', 'hereupon', '’m', 'however', 'an', 'another', 'ca', 'other', 'everywhere', 'few', 'alone', 'were', 'seem', 'being', 'enough', 'via', 'she', 'most', 'from', 'front', 'same', 'yourself', 'could', 'yourselves', 'with', \"'re\", 'eleven', 'name', 'is', 'whoever', 'put', 'either', 'whatever', 'every', 'regarding', 'through', 'out', '’re', 'thereby', 'three', 'he', 'elsewhere', 'do', 'thereupon', 'go', 'really', 'beyond', 'toward', '‘m', 'become', 'often', 'who', 'only', 'how', 'full', 'forty', 'last', 'everyone', 'when', 'twenty', 'bottom', 'us', \"n't\", 'somewhere', 'just', 'into', 'therein', 'would', 'behind', 'already', 'this', '’ve', 'himself', 'may', 'here', 're', 'many', 'up', 'doing', 'once', \"'ve\", 'quite', 'did', 'seemed', 'beforehand', 'five', \"'m\", 'amongst', 'own', 'hence', 'without', 'them', 'became', 'made', 'first', 'anyway', 'mostly', 'too', 'give', 'or', 'its', 'show', 'becoming', 'whole', 'well', 'besides', 'while', 'asdf', 'hereafter', 'whence', 'nor', 'a', 'latterly', 'whether', 'therefore', 'whose', 'fifty', 'somehow', 'of', 'except', 'moreover', '‘d', \"'ll\", 'someone', 'yet', 'nevertheless', 'third', 'around', 'perhaps', 'herein', 'such', 'eight', 'various', 'see', 'call', '’s', 'hundred', 'others', 'seeming', 'below', 'under', 'afterwards', 'we', 'several', 'ten', 'wherein', 'twelve', 'should', 'sometimes', 'sometime', 'part', 'former', 'some', 'to', 'if', 'rather', 'been', 'can', 'whereas', 'now', 'less', 'both', 'formerly', 'ourselves', 'during'}\n"
     ]
    }
   ],
   "source": [
    "print(nlp.Defaults.stop_words)"
   ]
  },
  {
   "cell_type": "code",
   "execution_count": 16,
   "metadata": {
    "collapsed": true
   },
   "outputs": [],
   "source": [
    "nlp.Defaults.stop_words.remove('no')"
   ]
  },
  {
   "cell_type": "code",
   "execution_count": 17,
   "metadata": {
    "collapsed": false
   },
   "outputs": [
    {
     "data": {
      "text/plain": [
       "False"
      ]
     },
     "execution_count": 17,
     "metadata": {},
     "output_type": "execute_result"
    }
   ],
   "source": [
    "nlp.vocab['no'].is_stop"
   ]
  },
  {
   "cell_type": "code",
   "execution_count": null,
   "metadata": {
    "collapsed": true
   },
   "outputs": [],
   "source": []
  }
 ],
 "metadata": {
  "kernelspec": {
   "display_name": "python37",
   "language": "python",
   "name": "python37"
  },
  "language_info": {
   "codemirror_mode": {
    "name": "ipython",
    "version": 3
   },
   "file_extension": ".py",
   "mimetype": "text/x-python",
   "name": "python",
   "nbconvert_exporter": "python",
   "pygments_lexer": "ipython3",
   "version": "3.7.10"
  }
 },
 "nbformat": 4,
 "nbformat_minor": 2
}
